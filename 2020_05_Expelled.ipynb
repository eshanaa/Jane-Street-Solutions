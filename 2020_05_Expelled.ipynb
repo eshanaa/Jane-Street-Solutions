{
 "cells": [
  {
   "cell_type": "code",
   "execution_count": 26,
   "metadata": {
    "id": "Oq1xibzMT1Wl"
   },
   "outputs": [],
   "source": [
    "import numpy as np\n",
    "import pandas as pd\n",
    "import time\n",
    "import seaborn as sns\n",
    "import matplotlib.pyplot as plt\n",
    "import requests\n",
    "from bs4 import BeautifulSoup\n",
    "import itertools\n",
    "from collections import defaultdict\n",
    "import numba as nb\n",
    "from numba.typed import List"
   ]
  },
  {
   "cell_type": "markdown",
   "metadata": {
    "id": "U9Yh1D3HT1Ws"
   },
   "source": [
    "### Puzzle details\n",
    "<img src=\"https://www.janestreet.com/puzzles/expelled_.jpg\" width=\"450\"    >                                                                                   \n"
   ]
  },
  {
   "cell_type": "code",
   "execution_count": 69,
   "metadata": {
    "id": "844RhDFpT1Wu"
   },
   "outputs": [
    {
     "name": "stdout",
     "output_type": "stream",
     "text": [
      "Took 0.14 seconds\n"
     ]
    },
    {
     "data": {
      "image/png": "[encoded data removed]",
      "text/plain": [
       "<Figure size 576x108 with 1 Axes>"
      ]
     },
     "metadata": {
      "needs_background": "light"
     },
     "output_type": "display_data"
    }
   ],
   "source": [
    "def next(line,row):\n",
    "    before= line[:row]\n",
    "    after = line[row+1:]\n",
    "    next_row =[]\n",
    "    while len(before) > 0:\n",
    "        next_row.append(before.pop())\n",
    "        next_row.append(after.pop(0))\n",
    "    next_row += after\n",
    "    return next_row\n",
    "\n",
    "def main():\n",
    "    number = 2000\n",
    "    line = [i for i in range(1,number)]\n",
    "\n",
    "    expelled =defaultdict(int)\n",
    "\n",
    "    row= 0\n",
    "    while len(line)>row*2:\n",
    "        expelled[row+1] = line[row]\n",
    "        line=next(line,row)\n",
    "        row +=1\n",
    "    \n",
    "    inverted = {v:k for k,v in expelled.items()}\n",
    "\n",
    "    output = np.array([[i+1, inverted[i+1]] for i in range(11)]).T\n",
    "\n",
    "    fig,ax = plt.subplots(1,1,figsize=(8,1.5))\n",
    "    m =np.zeros_like(output)\n",
    "    m[:,-1] =5\n",
    "    ax = sns.heatmap(m,annot=output,cbar=False,cmap=\"Reds\",center= 4,fmt=\"\",linewidths=1,linecolor=\"k\",annot_kws={\"size\":20})\n",
    "    ax.axis(\"off\")\n",
    "    plt.plot()\n",
    "    plt.tight_layout()\n",
    "\n",
    "start = time.time()\n",
    "main()\n",
    "print(\"Took {:.2f} seconds\".format(time.time()-start))"
   ]
  },
  {
   "cell_type": "code",
   "execution_count": 70,
   "metadata": {},
   "outputs": [
    {
     "name": "stdout",
     "output_type": "stream",
     "text": [
      "Solution\n",
      "~~~~~~~~\n",
      "The answer to this month’s puzzle is 416. As suggested by the title, one number is expelled in each row.  The nth number in the nth row of the grid is expelled, and does not appear in any future rows. In each successive row, the numbers are re-ordered.  Starting at the expelled number in row n-1, row n is generated by writing the numbers positioned (-1,1,-2,2,-3,3,-4,4,…) away from the expelled number, as long as they exist, where negative numbers mean “to the left” and positive numbers mean “to the right.” The bottom grid displays, for each number 1 through 10, the number of the row where it is eventually expelled.  It is not until row 416 that the number 11 is finally expelled!  Most solvers wrote a quick program to compute this instead of running through it manually.   A program would have been essential if we had asked for the row where the number 48 is expelled!\n"
     ]
    }
   ],
   "source": [
    "url='https://www.janestreet.com/puzzles/solutions/may-2020-solution/'\n",
    "res = requests.get(url)\n",
    "soup = BeautifulSoup(res.content, 'html.parser')\n",
    "x =[text for text in soup.body.stripped_strings]\n",
    "\n",
    "print(\"Solution\")\n",
    "print(\"~~~~~~~~\")\n",
    "print(\" \".join(x[7:12]))"
   ]
  },
  {
   "cell_type": "markdown",
   "metadata": {
    "id": "ld_NFUIfT1W9"
   },
   "source": [
    "### Solution\n",
    "<img src=\"https://www.janestreet.com/puzzles/may20_solution.png\" width=\"600\">\n"
   ]
  },
  {
   "cell_type": "code",
   "execution_count": null,
   "metadata": {},
   "outputs": [],
   "source": []
  }
 ],
 "metadata": {
  "colab": {
   "include_colab_link": true,
   "name": "JaneSt-Feb18.ipynb",
   "provenance": []
  },
  "kernelspec": {
   "display_name": "Python 3",
   "language": "python",
   "name": "python3"
  },
  "language_info": {
   "codemirror_mode": {
    "name": "ipython",
    "version": 3
   },
   "file_extension": ".py",
   "mimetype": "text/x-python",
   "name": "python",
   "nbconvert_exporter": "python",
   "pygments_lexer": "ipython3",
   "version": "3.7.10"
  }
 },
 "nbformat": 4,
 "nbformat_minor": 4
}
