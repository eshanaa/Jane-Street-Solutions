{
 "cells": [
  {
   "cell_type": "code",
   "execution_count": 1,
   "metadata": {
    "id": "Oq1xibzMT1Wl"
   },
   "outputs": [],
   "source": [
    "import numpy as np\n",
    "import time\n",
    "import requests\n",
    "import math\n",
    "import itertools\n",
    "from bs4 import BeautifulSoup\n",
    "from fractions import Fraction\n",
    "from IPython.display import Markdown, display"
   ]
  },
  {
   "cell_type": "code",
   "execution_count": 2,
   "metadata": {
    "id": "ICTfvjZUT1Wr"
   },
   "outputs": [
    {
     "data": {
      "text/markdown": [
       "### Bracketology 101\n",
       "\n",
       "Show Solution\n",
       "There’s a certain insanity in the air this time of the year that gets us thinking about tournament brackets.  Consider a tournament with 16 competitors, seeded 1-16, and arranged in the single-elimination bracket pictured above (identical to a “region” of the NCAA Division 1 basketball tournament). Assume that when the X-seed plays the Y-seed, the X-seed has a Y/(X+Y) probability of winning. E.g. in the first round, the 5-seed has a 12/17 chance of beating the 12-seed.\n",
       "Suppose the 2-seed has the chance to secretly swap two teams’ placements in the bracket before the tournament begins. So, for example, say they choose to swap the 8- and 16-seeds. Then the 8-seed would play their first game against the 1-seed and have a 1/9 chance of advancing to the next round, and the 16-seed would play their first game against the 9-seed and have a 9/25 chance of advancing."
      ],
      "text/plain": [
       "<IPython.core.display.Markdown object>"
      ]
     },
     "metadata": {},
     "output_type": "display_data"
    }
   ],
   "source": [
    "url='https://www.janestreet.com/puzzles/bracketology-101-index/'\n",
    "res = requests.get(url)\n",
    "soup = BeautifulSoup(res.content, 'html.parser')\n",
    "y =[text for text in soup.body.stripped_strings]\n",
    "#display([(i,j) for i,j in enumerate(y)])\n",
    "display(Markdown(\"### \"+y[7]+\"\\n\\n\"+str(\"\\n\".join(y[9:12]))))"
   ]
  },
  {
   "cell_type": "markdown",
   "metadata": {
    "id": "U9Yh1D3HT1Ws"
   },
   "source": [
    "### Puzzle details\n",
    "<img src=\"https://www.janestreet.com/puzzles/2021-04-01-bracketology-101.png\" width=\"250\">"
   ]
  },
  {
   "cell_type": "code",
   "execution_count": 3,
   "metadata": {
    "id": "844RhDFpT1Wu"
   },
   "outputs": [],
   "source": [
    "# function to calculate the probability of seed winning for a given bracket\n",
    "def calc(seed,bracket):\n",
    "    n = len(bracket)\n",
    "    # work out the odds of each match. \n",
    "    odds = [[Fraction(j,i+j) for j in bracket] for i in bracket]\n",
    "    \n",
    "    round = list(np.ones(n,dtype=int))\n",
    "    \n",
    "    # loop through the rounds mutiplying out the probabilities\n",
    "    for r in range(int(math.log(n,2))):\n",
    "        \n",
    "        #for each team work out the set of possible opponents in a given round\n",
    "        opps = [i for i in range(int(2**r),0,-1)]+[-i for i in range(int(2**r),2**(r+1))]\n",
    "        \n",
    "        # multiply the probability of team i being in the round by \n",
    "        # the sum of the products of \n",
    "        # - the chances of each of the possible opponenets making it through and \n",
    "        # - the chance of team i winning against that opponenet\n",
    "        round = [round[i]*sum([round[i+opps[i % 2**(r+1)]+j]*odds[i][i+opps[i % 2**(r+1)]+j] for j in range(2**r)]) for i in range(n)]\n",
    "\n",
    "    return round[bracket.index(seed)]"
   ]
  },
  {
   "cell_type": "code",
   "execution_count": 4,
   "metadata": {
    "id": "844RhDFpT1Wu"
   },
   "outputs": [
    {
     "data": {
      "text/markdown": [
       "For the original bracket :"
      ],
      "text/plain": [
       "<IPython.core.display.Markdown object>"
      ]
     },
     "metadata": {},
     "output_type": "display_data"
    },
    {
     "data": {
      "text/markdown": [
       "Probability of seed 2 winning is 21.60%"
      ],
      "text/plain": [
       "<IPython.core.display.Markdown object>"
      ]
     },
     "metadata": {},
     "output_type": "display_data"
    },
    {
     "data": {
      "text/markdown": [
       "\n",
       "Swapping 3-16 gives :"
      ],
      "text/plain": [
       "<IPython.core.display.Markdown object>"
      ]
     },
     "metadata": {},
     "output_type": "display_data"
    },
    {
     "data": {
      "text/markdown": [
       "Probability of seed 2 winning is 28.16%"
      ],
      "text/plain": [
       "<IPython.core.display.Markdown object>"
      ]
     },
     "metadata": {},
     "output_type": "display_data"
    },
    {
     "data": {
      "text/markdown": [
       "\n",
       "**Difference is 6.55795%**"
      ],
      "text/plain": [
       "<IPython.core.display.Markdown object>"
      ]
     },
     "metadata": {},
     "output_type": "display_data"
    }
   ],
   "source": [
    "seed = 2\n",
    "bracket = [1,16,8,9,5,12,4,13,6,11,3,14,7,10,2,15]\n",
    "\n",
    "display(Markdown(\"For the original bracket :\"))\n",
    "display(Markdown(\"Probability of seed {} winning is {:.2f}%\".format(seed,float(calc(seed,bracket))*100)))\n",
    "\n",
    "swap = (3,16)\n",
    "bracket2 = bracket.copy()\n",
    "bracket2[bracket.index(swap[0])],bracket2[bracket.index(swap[1])] = bracket2[bracket.index(swap[1])],bracket2[bracket.index(swap[0])]\n",
    "\n",
    "display(Markdown(\"\\nSwapping {}-{} gives :\".format(swap[0],swap[1])))\n",
    "display(Markdown(\"Probability of seed {} winning is {:.2f}%\".format(seed,float(calc(seed,bracket2))*100)))\n",
    "display(Markdown(\"\\n**Difference is {:.5f}%**\".format(float(calc(seed,bracket2)-calc(seed,bracket))*100)))"
   ]
  },
  {
   "cell_type": "code",
   "execution_count": 5,
   "metadata": {
    "id": "844RhDFpT1Wu"
   },
   "outputs": [
    {
     "name": "stdout",
     "output_type": "stream",
     "text": [
      "\n",
      "Running all possibilities\n",
      "=========================\n",
      "Swap\tProb 2 wins\t Diff\n",
      "----\t-----------\t ----\n",
      "1-2\t  23.03%\t+1.424294%\n",
      "1-3\t  19.92%\t-1.683503%\n",
      "1-4\t  22.08%\t+0.471132%\n",
      "1-5\t  22.37%\t+0.770788%\n",
      "1-6\t  21.85%\t+0.250925%\n",
      "1-7\t  16.88%\t-4.726948%\n",
      "1-8\t  22.04%\t+0.436367%\n",
      "1-9\t  22.09%\t+0.488198%\n",
      "1-10\t  17.45%\t-4.153344%\n",
      "1-11\t  22.99%\t+1.386153%\n",
      "1-12\t  23.43%\t+1.830058%\n",
      "1-13\t  23.67%\t+2.062520%\n",
      "1-14\t  23.97%\t+2.365184%\n",
      "1-15\t  13.58%\t-8.021029%\n",
      "1-16\t  21.60%\t+0.000000%\n",
      "2-3\t  21.07%\t-0.529686%\n",
      "2-4\t  18.40%\t-3.199723%\n",
      "2-5\t  17.53%\t-4.077609%\n",
      "2-6\t  19.43%\t-2.169239%\n",
      "2-7\t  20.67%\t-0.935237%\n",
      "2-8\t  15.28%\t-6.322926%\n",
      "2-9\t  14.96%\t-6.640242%\n",
      "2-10\t  20.29%\t-1.316813%\n",
      "2-11\t  18.01%\t-3.592429%\n",
      "2-12\t  14.92%\t-6.686996%\n",
      "2-13\t  14.75%\t-6.852023%\n",
      "2-14\t  17.52%\t-4.086014%\n",
      "2-15\t  21.60%\t+0.000000%\n",
      "2-16\t  13.78%\t-7.823535%\n",
      "3-4\t  22.91%\t+1.309133%\n",
      "3-5\t  23.81%\t+2.210638%\n",
      "3-6\t  21.72%\t+0.116452%\n",
      "3-7\t  20.49%\t-1.112796%\n",
      "3-8\t  26.03%\t+4.428705%\n",
      "3-9\t  26.23%\t+4.628463%\n",
      "3-10\t  20.92%\t-0.684985%\n",
      "3-11\t  22.12%\t+0.516822%\n",
      "3-12\t  25.55%\t+3.950247%\n",
      "3-13\t  25.62%\t+4.011705%\n",
      "3-14\t  21.60%\t+0.000000%\n",
      "3-15\t  17.58%\t-4.022304%\n",
      "3-16\t  28.16%\t+6.557950%\n",
      "4-5\t  21.61%\t+0.001148%\n",
      "4-6\t  20.91%\t-0.689949%\n",
      "4-7\t  19.32%\t-2.280242%\n",
      "4-8\t  22.12%\t+0.519283%\n",
      "4-9\t  22.13%\t+0.523498%\n",
      "4-10\t  19.08%\t-2.526012%\n",
      "4-11\t  20.83%\t-0.769185%\n",
      "4-12\t  21.58%\t-0.022229%\n",
      "4-13\t  21.60%\t+0.000000%\n",
      "4-14\t  21.39%\t-0.213362%\n",
      "4-15\t  16.29%\t-5.318947%\n",
      "4-16\t  23.40%\t+1.791900%\n",
      "5-6\t  21.34%\t-0.266764%\n",
      "5-7\t  20.33%\t-1.275081%\n",
      "5-8\t  21.92%\t+0.319223%\n",
      "5-9\t  21.94%\t+0.335503%\n",
      "5-10\t  19.92%\t-1.682650%\n",
      "5-11\t  21.16%\t-0.446643%\n",
      "5-12\t  21.60%\t+0.000000%\n",
      "5-13\t  21.58%\t-0.022229%\n",
      "5-14\t  21.64%\t+0.034558%\n",
      "5-15\t  17.39%\t-4.209093%\n",
      "5-16\t  22.97%\t+1.361256%\n",
      "6-7\t  21.22%\t-0.379062%\n",
      "6-8\t  22.06%\t+0.451872%\n",
      "6-9\t  22.15%\t+0.545413%\n",
      "6-10\t  20.87%\t-0.738192%\n",
      "6-11\t  21.60%\t+0.000000%\n",
      "6-12\t  21.95%\t+0.350777%\n",
      "6-13\t  21.96%\t+0.359154%\n",
      "6-14\t  22.12%\t+0.516822%\n",
      "6-15\t  18.61%\t-2.994676%\n",
      "6-16\t  23.08%\t+1.475349%\n",
      "7-8\t  22.09%\t+0.481413%\n",
      "7-9\t  22.43%\t+0.827769%\n",
      "7-10\t  21.60%\t+0.000000%\n",
      "7-11\t  22.58%\t+0.975605%\n",
      "7-12\t  22.82%\t+1.211443%\n",
      "7-13\t  22.93%\t+1.321471%\n",
      "7-14\t  23.27%\t+1.668366%\n",
      "7-15\t  20.29%\t-1.316813%\n",
      "7-16\t  24.09%\t+2.482110%\n",
      "8-9\t  21.60%\t+0.000000%\n",
      "8-10\t  21.13%\t-0.472452%\n",
      "8-11\t  21.40%\t-0.204112%\n",
      "8-12\t  21.41%\t-0.196532%\n",
      "8-13\t  21.39%\t-0.217521%\n",
      "8-14\t  21.61%\t+0.008434%\n",
      "8-15\t  19.33%\t-2.278783%\n",
      "8-16\t  22.09%\t+0.488198%\n",
      "9-10\t  21.41%\t-0.192674%\n",
      "9-11\t  21.51%\t-0.093549%\n",
      "9-12\t  21.50%\t-0.108050%\n",
      "9-13\t  21.48%\t-0.124873%\n",
      "9-14\t  21.68%\t+0.078944%\n",
      "9-15\t  19.87%\t-1.737438%\n",
      "9-16\t  22.04%\t+0.436367%\n",
      "10-11\t  21.71%\t+0.104312%\n",
      "10-12\t  21.79%\t+0.181274%\n",
      "10-13\t  21.84%\t+0.238065%\n",
      "10-14\t  22.06%\t+0.458804%\n",
      "10-15\t  20.67%\t-0.935237%\n",
      "10-16\t  22.39%\t+0.787650%\n",
      "11-12\t  21.60%\t-0.004556%\n",
      "11-13\t  21.59%\t-0.010310%\n",
      "11-14\t  21.72%\t+0.116452%\n",
      "11-15\t  20.68%\t-0.927279%\n",
      "11-16\t  21.92%\t+0.318353%\n",
      "12-13\t  21.61%\t+0.001148%\n",
      "12-14\t  21.70%\t+0.092353%\n",
      "12-15\t  20.98%\t-0.622717%\n",
      "12-16\t  21.87%\t+0.269260%\n",
      "13-14\t  21.65%\t+0.044395%\n",
      "13-15\t  21.22%\t-0.388880%\n",
      "13-16\t  21.79%\t+0.185828%\n",
      "14-15\t  21.38%\t-0.224083%\n",
      "14-16\t  21.64%\t+0.034270%\n",
      "15-16\t  21.82%\t+0.217093%\n"
     ]
    },
    {
     "data": {
      "text/markdown": [
       "`Best Swap is : (3, 16)`"
      ],
      "text/plain": [
       "<IPython.core.display.Markdown object>"
      ]
     },
     "metadata": {},
     "output_type": "display_data"
    }
   ],
   "source": [
    "print(\"\\nRunning all possibilities\")\n",
    "print(\"=========================\")\n",
    "diffs =[]\n",
    "print(\"Swap\\tProb {} wins\\t Diff\".format(seed))\n",
    "print(\"----\\t-----------\\t ----\".format(seed))\n",
    "for swap in [i for i in itertools.combinations([*range(1,len(bracket)+1)],2)]:\n",
    "    bracket2 = bracket.copy()\n",
    "    bracket2[bracket.index(swap[0])],bracket2[bracket.index(swap[1])] = bracket2[bracket.index(swap[1])],bracket2[bracket.index(swap[0])]\n",
    "    print(\"{}-{}\".format(swap[0],swap[1]),end=\"\\t\")\n",
    "    print(\"{:7.2f}%\".format(float(calc(seed,bracket2))*100),end=\"\\t\")\n",
    "    print(\"{:+5.6f}%\".format(float(calc(seed,bracket2)-calc(seed,bracket))*100))\n",
    "    diffs.append(calc(seed,bracket2)-calc(seed,bracket))\n",
    "display(Markdown(\"`Best Swap is : \"+str([i for i in itertools.combinations([*range(1,len(bracket)+1)],2)][np.argmax(diffs)])+\"`\"))"
   ]
  },
  {
   "cell_type": "code",
   "execution_count": 6,
   "metadata": {},
   "outputs": [
    {
     "data": {
      "text/markdown": [
       "### April 2021 : Solution\n",
       "\n",
       "The most straightforward way to solve this puzzle was to compute the\n",
       "probability distributions of the winners of each match recursively,\n",
       "given each swap.  The most advantageous swap for the 2-seed is to swap\n",
       "seeds\n",
       "3 and 16\n",
       ", which increases the 2-seed’s probability of winning by\n",
       "6.55795%\n",
       ".  One easy mistake to make was to accidentally report the\n",
       "1-seed’s probability of winning after swapping the 2-seed with the\n",
       "1-seed.  This swap is good for the 2-seed, but only increases their\n",
       "probability of winning from 21.6040% to 23.0283%, so 1.4243%.\n",
       "The following puzzlers managed to find the correct swap and the\n",
       "increase in probability."
      ],
      "text/plain": [
       "<IPython.core.display.Markdown object>"
      ]
     },
     "metadata": {},
     "output_type": "display_data"
    }
   ],
   "source": [
    "url='https://www.janestreet.com/puzzles/bracketology-101-solution/'\n",
    "res = requests.get(url)\n",
    "soup = BeautifulSoup(res.content, 'html.parser')\n",
    "y =[text for text in soup.body.stripped_strings]\n",
    "#display([(i,j) for i,j in enumerate(y)])\n",
    "display(Markdown(\"### \"+y[8]+\"\\n\\n\"+str(\"\\n\".join(y[10:16]))))"
   ]
  },
  {
   "cell_type": "code",
   "execution_count": 7,
   "metadata": {},
   "outputs": [
    {
     "name": "stdout",
     "output_type": "stream",
     "text": [
      "For the original bracket :\n",
      "Probability of seed 2 winning is 21.60%\n",
      "\n",
      "Swapping 3-16 gives :\n",
      "Probability of seed 2 winning is 28.16%\n",
      "\n",
      "Difference is 6.55795%\n"
     ]
    }
   ],
   "source": [
    "# less generic and elegant (but more readable) code\n",
    "\n",
    "def calc(seed,bracket):\n",
    "    n = len(bracket)\n",
    "    choice0 = [ 1,-1]\n",
    "    choice1 = [ 2, 1,-2,-3]\n",
    "    choice2 = [ 4, 3, 2, 1,-4,-5,-6,-7]\n",
    "    choice3 = [ 8, 7 ,6, 5, 4, 3, 2, 1,-8,-9,-10,-11,-12,-13,-14,-15]\n",
    "\n",
    "    odds = [[Fraction(j,i+j) for j in bracket] for i in bracket]\n",
    "    round0 = list(np.ones(n))\n",
    "    \n",
    "    round1 = [round0[i]*sum([odds[i][i+choice0[(i % 2)]+j] for j in range(1)]) for i in range(n)]\n",
    "    round2 = [round1[i]*sum([round1[i+choice1[i % 4]+j]*odds[i][i+choice1[(i % 4)]+j] for j in range(2)]) for i in range(n)]\n",
    "    round3 = [round2[i]*sum([round2[i+choice2[i % 8]+j]*odds[i][i+choice2[(i % 8)]+j] for j in range(4)]) for i in range(n)]\n",
    "    round4 = [round3[i]*sum([round3[i+choice3[i % 16]+j]*odds[i][i+choice3[(i % 16)]+j] for j in range(8)]) for i in range(n)]\n",
    "    return round4[bracket.index(seed)]\n",
    "\n",
    "bracket = [1,16,8,9,5,12,4,13,6,11,3,14,7,10,2,15]\n",
    "bracket2= [1,3,8,9,5,12,4,13,6,11,16,14,7,10,2,15]\n",
    "\n",
    "seed = 2\n",
    "print(\"For the original bracket :\")\n",
    "print(\"Probability of seed {} winning is {:.2f}%\".format(seed,float(calc(seed,bracket))*100))\n",
    "print(\"\\nSwapping 3-16 gives :\")\n",
    "print(\"Probability of seed {} winning is {:.2f}%\".format(seed,float(calc(seed,bracket2))*100))\n",
    "print(\"\\nDifference is {:.5f}%\".format(float(calc(seed,bracket2)-calc(seed,bracket))*100))"
   ]
  },
  {
   "cell_type": "code",
   "execution_count": null,
   "metadata": {},
   "outputs": [],
   "source": []
  }
 ],
 "metadata": {
  "colab": {
   "include_colab_link": true,
   "name": "JaneSt-Feb18.ipynb",
   "provenance": []
  },
  "kernelspec": {
   "display_name": "Python 3",
   "language": "python",
   "name": "python3"
  },
  "language_info": {
   "codemirror_mode": {
    "name": "ipython",
    "version": 3
   },
   "file_extension": ".py",
   "mimetype": "text/x-python",
   "name": "python",
   "nbconvert_exporter": "python",
   "pygments_lexer": "ipython3",
   "version": "3.7.10"
  }
 },
 "nbformat": 4,
 "nbformat_minor": 4
}
