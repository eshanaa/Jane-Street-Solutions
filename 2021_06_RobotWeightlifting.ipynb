{
 "cells": [
  {
   "cell_type": "code",
   "execution_count": 1,
   "id": "a0be8c81",
   "metadata": {},
   "outputs": [],
   "source": [
    "import time\n",
    "import matplotlib.pyplot as plt\n",
    "import pandas as pd\n",
    "import numpy as np\n",
    "\n",
    "import requests\n",
    "from bs4 import BeautifulSoup\n",
    "from IPython.display import Markdown, display,HTML\n",
    "\n",
    "import itertools\n",
    "from sympy import symbols,Eq,nsolve"
   ]
  },
  {
   "cell_type": "code",
   "execution_count": 2,
   "id": "d2ce852a",
   "metadata": {},
   "outputs": [
    {
     "data": {
      "text/html": [
       "<div class=\"inner-wrapper\">\n",
       "<p>The Robot Weightlifting World Championship’s final round is about to\n",
       "begin!  Three robots, seeded 1, 2, and 3, remain in contention.  They\n",
       "take turns from the 3rd seed to the 1st seed publicly declaring\n",
       "exactly how much weight (any nonnegative real number) they will\n",
       "attempt to lift, and no robot can choose exactly the same amount as a\n",
       "previous robot.  Once the three weights have been announced, the\n",
       "robots attempt their lifts, and the robot that successfully lifts the\n",
       "most weight is the winner.  If all robots fail, they just repeat the\n",
       "same lift amounts until at least one succeeds.</p>\n",
       "<p>Assume the following:</p>\n",
       "<p>1) all the robots have the same probability <em>p(w)</em> of successfully\n",
       "   lifting a given weight <em>w</em>;</p>\n",
       "<p>2) <em>p(w)</em> is exactly known by all competitors, continuous, strictly\n",
       "   decreasing as the <em>w</em> increases, <em>p(0)</em> = 1, and <em>p(w)</em> -&gt; 0 as <em>w</em>\n",
       "   -&gt; infinity; and</p>\n",
       "<p>3) all competitors want to maximize their chance of winning the RWWC.</p>\n",
       "<p>If <em>w</em> is the amount of weight the 3rd seed should request, find\n",
       "<em>p(w)</em>.  Give your answer to an accuracy of six decimal places.</p>\n",
       "</div>"
      ],
      "text/plain": [
       "<IPython.core.display.HTML object>"
      ]
     },
     "execution_count": 2,
     "metadata": {},
     "output_type": "execute_result"
    }
   ],
   "source": [
    "url='https://www.janestreet.com/puzzles/robot-weightlifting-index/'\n",
    "res = requests.get(url)\n",
    "soup = BeautifulSoup(res.content, 'html.parser')\n",
    "HTML(str(soup.find('div', {'class' :'inner-wrapper'})))\n",
    "\n",
    "# I missed a couple of things in my orignial entry so didn't get this one. Solution below has the benefit of \n",
    "# both the published solution and other online explains."
   ]
  },
  {
   "cell_type": "code",
   "execution_count": 3,
   "id": "40deb160-4e51-433f-ad2b-02cff810c033",
   "metadata": {},
   "outputs": [],
   "source": [
    "# work out the probability of Seed 1 winning. He has 3 options\n",
    "def last_win(x,y):\n",
    "    c = (1-x)*(1-y)                              # automatically lift zero if x & y fail     \n",
    "    a = x/(1-(1-x)**2*(1-y))                     # try to lift x \n",
    "    b = (1-x)*y/(1-(1-x)*(1-y)**2)               # try to lift y                                 \n",
    "        \n",
    "    return np.argmax([a,b,c])"
   ]
  },
  {
   "cell_type": "code",
   "execution_count": 4,
   "id": "3b9e8005-0e2b-4b1f-8f31-caf6bda9331a",
   "metadata": {},
   "outputs": [],
   "source": [
    "#graph this out to see the 3 regimes\n",
    "N =1000\n",
    "x = np.arange(1,N)\n",
    "y = np.arange(1,N)\n",
    "\n",
    "z = np.zeros((N-1,N-1))\n",
    "for a,b in itertools.product(x,y):\n",
    "    z[b-1,a-1] = last_win(a/N,b/N)"
   ]
  },
  {
   "cell_type": "code",
   "execution_count": 5,
   "id": "6bef640d-12da-4c17-aa71-23cdce7681e9",
   "metadata": {},
   "outputs": [
    {
     "data": {
      "image/png": "[encoded data removed]",
      "text/plain": [
       "<Figure size 432x432 with 1 Axes>"
      ]
     },
     "metadata": {
      "needs_background": "light"
     },
     "output_type": "display_data"
    }
   ],
   "source": [
    "fig, ax = plt.subplots(figsize=(6,6))\n",
    "ax.contourf(x/N,y/N,z)\n",
    "plt.xlabel('Probability of Seed 1 lifting')\n",
    "plt.ylabel('Probability of Seed 2 lifting')\n",
    "plt.plot()\n",
    "plt.show()"
   ]
  },
  {
   "cell_type": "code",
   "execution_count": 6,
   "id": "a4e33d9e-cf37-4298-b015-a17d1611247d",
   "metadata": {},
   "outputs": [
    {
     "name": "stdout",
     "output_type": "stream",
     "text": [
      "Solution is: 0.286833\n"
     ]
    }
   ],
   "source": [
    "# Seed 2 will choose the point on the graph where they maximise their probability of winning \n",
    "# which is the intersection of the 3 areas \n",
    "# best summary of why is here https://joshmaxsilverman.github.io/2021-07-21-robot-weightlifters/\n",
    "\n",
    "x,y = symbols(\"x y\")\n",
    "\n",
    "# Third player choices\n",
    "a = x/(1-(1-x)**2*(1-y))                     # try to lift x \n",
    "b = (1-x)*y/(1-(1-x)*(1-y)**2)               # try to lift y \n",
    "c = (1-x)*(1-y)                              # automatically lift zero if x & y fail\n",
    "\n",
    "sol=nsolve([Eq(a,b),Eq(a,c),Eq(b,c)],(x,y),[0.3,0.4])\n",
    "print(\"Solution is: {:.6f}\".format(sol[0]))"
   ]
  },
  {
   "cell_type": "code",
   "execution_count": 7,
   "id": "5ffffc17-c10c-4294-9d22-e6b94ee655a8",
   "metadata": {},
   "outputs": [
    {
     "data": {
      "text/html": [
       "<div class=\"inner-wrapper\">\n",
       "<p>To solve this problem, it’s best to work backwards from the decision\n",
       "of the 1st seed, who selects their attempted weight last.  We will\n",
       "work with the 1st, 2nd, and 3rd seed’s probability of successfully\n",
       "lifting their selected weights (we can ignore the actual weight\n",
       "amounts and just phrase everything in terms of these probabilities).</p>\n",
       "<p>So the 1st seed knows the probability that the 3rd seed will\n",
       "successfully lift (call it <em>x</em>), and the probability that the 2nd seed\n",
       "will succeed (<em>y</em>).  Given the 1st seed’s lift will only be judged\n",
       "against the other two lifts, there are three possible strategies to\n",
       "consider for the 1st seed, any other strategy is dominated by one of\n",
       "these:</p>\n",
       "<ol>\n",
       "<li>lift an arbitrarily small amount more than the 3rd seed, to have\n",
       "(<em>x</em>-ε) chance of success,</li>\n",
       "<li>lift an arbitrarily small amount more than the 2nd seed, to have\n",
       "(<em>y</em>-ε) chance of success, or</li>\n",
       "<li>lift zero weight with success probability 1.</li>\n",
       "</ol>\n",
       "<p>Without loss of generality, we can assume <em>x</em>&lt;<em>y</em> and compute the curves\n",
       "that separate the regions where each of these strategies is optimal by\n",
       "setting their payoffs equal.  The probability of a 1st seed victory of\n",
       "the respective strategies, as ε -&gt; 0+, are</p>\n",
       "<ol>\n",
       "<li><em>x</em>/(1-(1-<em>x</em>)<sup>2</sup>(1-<em>y</em>))</li>\n",
       "<li>(1-<em>x</em>)<em>y</em>/(1-(1-<em>x</em>)(1-<em>y</em>)<sup>2</sup>)</li>\n",
       "<li>(1-<em>x</em>)(1-<em>y</em>)</li>\n",
       "</ol>\n",
       "<p>Setting these pairwise equal divides the space into three regions.  We\n",
       "can reflect this about the line <em>x</em>=<em>y</em> and get what the 1st seed will do\n",
       "in every circumstance (represented by the yellow, blue, and green\n",
       "regions in the graph).  We then can optimize the 2nd seed’s choice\n",
       "conditional on the 3rd seed’s selection (represented by the red line\n",
       "in the graph).</p>\n",
       "<p>Remarkably, the function for the 2nd seed’s optimal probability of\n",
       "lifting (<em>y</em>), dependent on <em>x</em>, is piecewise smooth with <em>six</em> different\n",
       "pieces and <em>two</em> jump discontinuities.  Once we have these we can detect\n",
       "the optimal choice for the 3rd seed (the circled point on the graph).\n",
       "This ends up being <strong>0.286833…</strong> which is one of the points of triple\n",
       "intersection of the three strategies listed above.  That is, it turns\n",
       "out to be in the best interest of the 3rd seed to “collaborate” with\n",
       "the 2nd seed to make the 1st seed indifferent between the three\n",
       "strategies listed<sup>1</sup>.  Unfortunately for the 3rd seed, the\n",
       "only way to get the 2nd seed to cooperate with this plan is to accept\n",
       "the worse of the two positions in this triple-intersection point.  So\n",
       "the selections will be:</p>\n",
       "<p><em>x</em> = 0.286833…</p>\n",
       "<p><em>y</em> = 0.436041…</p>\n",
       "<p><em>z</em> = 1</p>\n",
       "<p>Which leads to the following probabilities of winning:</p>\n",
       "<p>3rd seed: 0.286833…</p>\n",
       "<p>2nd seed: 0.310970…</p>\n",
       "<p>1st seed: 0.402197…</p>\n",
       "<p>[1] While the 1st seed is indifferent between the three idealized\n",
       "strategies, only one of them is achievable because the other two\n",
       "strategies are limiting as ε -&gt; 0.  So we can assume that if the\n",
       "3rd seed and 2nd seed exactly measured their weights to perfect\n",
       "precision, the 1st seed would choose the zero weight lift.</p>\n",
       "<p><strong>Congrats to this month’s solvers who successfully found the answer!</strong></p>\n",
       "<h4 class=\"omit-as-of\" id=\"correct-submissions-from\"></h4>\n",
       "<p class=\"correct-submissions\" data-directory=\"2021-06-01-robot-weightlifting\"></p>\n",
       "</div>"
      ],
      "text/plain": [
       "<IPython.core.display.HTML object>"
      ]
     },
     "execution_count": 7,
     "metadata": {},
     "output_type": "execute_result"
    }
   ],
   "source": [
    "url='https://www.janestreet.com/puzzles/robot-weightlifting-solution/'\n",
    "res = requests.get(url)\n",
    "soup = BeautifulSoup(res.content, 'html.parser')\n",
    "HTML(str(soup.find_all('div', {'class' :'inner-wrapper'})[1]))"
   ]
  },
  {
   "cell_type": "markdown",
   "id": "275b66ca-3abf-4150-9e7b-14f316115c8c",
   "metadata": {},
   "source": [
    "<img src='https://www.janestreet.com/puzzles/2021-06-01-robot-weightlifting-solution.jpg' width=400>"
   ]
  },
  {
   "cell_type": "code",
   "execution_count": null,
   "id": "6112aa48",
   "metadata": {},
   "outputs": [],
   "source": []
  }
 ],
 "metadata": {
  "kernelspec": {
   "display_name": "Python 3 (ipykernel)",
   "language": "python",
   "name": "python3"
  },
  "language_info": {
   "codemirror_mode": {
    "name": "ipython",
    "version": 3
   },
   "file_extension": ".py",
   "mimetype": "text/x-python",
   "name": "python",
   "nbconvert_exporter": "python",
   "pygments_lexer": "ipython3",
   "version": "3.7.12"
  }
 },
 "nbformat": 4,
 "nbformat_minor": 5
}
