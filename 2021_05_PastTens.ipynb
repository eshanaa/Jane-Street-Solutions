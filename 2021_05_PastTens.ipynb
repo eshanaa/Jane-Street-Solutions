{
 "cells": [
  {
   "cell_type": "code",
   "execution_count": 1,
   "metadata": {
    "id": "Oq1xibzMT1Wl"
   },
   "outputs": [],
   "source": [
    "import numpy as np\n",
    "import time\n",
    "import requests\n",
    "import math\n",
    "import itertools\n",
    "from bs4 import BeautifulSoup\n",
    "from fractions import Fraction\n",
    "from IPython.display import Markdown, display"
   ]
  },
  {
   "cell_type": "code",
   "execution_count": 2,
   "metadata": {
    "id": "ICTfvjZUT1Wr"
   },
   "outputs": [
    {
     "data": {
      "text/markdown": [
       "### Past Tens\n",
       "\n",
       "Show Solution\n",
       "\n",
       "Find the answer to the hidden question in this picture.\n",
       "\n",
       "(Download or open in a new tab to see it in full resolution.)\n",
       "\n",
       "Addendum:\n",
       "\n",
       "The V-shaped wedge near the righthand side is not a hint, it’s just how the records settled."
      ],
      "text/plain": [
       "<IPython.core.display.Markdown object>"
      ]
     },
     "metadata": {},
     "output_type": "display_data"
    }
   ],
   "source": [
    "url='https://www.janestreet.com/puzzles/past-tens-index/'\n",
    "res = requests.get(url)\n",
    "soup = BeautifulSoup(res.content, 'html.parser')\n",
    "y =[text for text in soup.body.stripped_strings]\n",
    "#display([(i,j) for i,j in enumerate(y)])\n",
    "display(Markdown(\"### \"+y[7]+\"\\n\\n\"+str(\"\\n\\n\".join(y[9:14]))))\n",
    "\n",
    "# Didn't get this one. Spotted the out of order records and almost worked it out but, missed the record between Cassius and Chance and didn't put the \"The\" on \n",
    "# Dark side of the moon and slider when I wrote them down so it didn't leap out\n",
    "# Both corrected below"
   ]
  },
  {
   "cell_type": "markdown",
   "metadata": {},
   "source": [
    "\n",
    "<img src=\"https://www.janestreet.com/puzzles/2021-05-01-past-tens.png\" width =500>\n"
   ]
  },
  {
   "cell_type": "code",
   "execution_count": 3,
   "metadata": {},
   "outputs": [
    {
     "name": "stdout",
     "output_type": "stream",
     "text": [
      "whats The band for the #1 1973 Song My Love\n"
     ]
    }
   ],
   "source": [
    "vinyl =[['ABC','The lexicon of love'],['Air ','Music For Museum'],['apollo 100','apollo 100'],['the avalanches','since  I left you'],['baccara','baccara'],\n",
    "        ['william basinski','92982'],['chris bell','I am the cosmos'],['blackalicous','blazing arrow'],['david bowie ','low'],['marvin gaye','whats going on']\n",
    "        ,['the blue nile','hats'],['luiz bonfa','luiz bonfa'],['the books','the way out'],['cassius','au reve'],['?','?'],['Chance ','in search'],['chromatics','night drive']\n",
    "        ,['the clientele','suburban light'],['galaxie 500','on fire'],['pink floyd','The dark side of the moon'],['colored music','colored music'],['daft punk','discovery'],\n",
    "        ['dip  in the pool ','On retinae'],['echo and the bunnymen','ocean rain'],['brian eno','apollo atmosphears and sound tracks'],['the exploding hearts','guitar romantic'],\n",
    "        ['FAD','FAD'],['faust','faust iv'],['joy division','unknown pleasures'],['paul mcartney ','band on the run'],['The Firey Furnaces','EP'],\n",
    "        [' Klaus Schulze & Cosmic Jokers','galactic supermarket'],['manuel gittsching','e2-e4'],['ragnar grippe','sand'],['bobby humphrey','fancy dancer'],\n",
    "        ['Inoyama Land','Danzindan​-​Pojidon'],['jj','no2'],['grace jones','nightclubbing'],['my bloody valentine','loveless'],['Tatsuro Yamashita','for you '],\n",
    "        ['kano','kano'],['kraftwerk','trans-europe express'],['lambchop','nixon'],['land of the loops','bundle up joy'],['lcd sound system','sound of silver'],\n",
    "        ['ramsey lewis','sun goddess'],['life without bindings','any other city'],['the lines ','hull down'],['prince and the revolution ','music from the motion picture purple rain'],\n",
    "        ['t rex','the slider'],['the magnetic fields','holiday'],['mariah','utakana no hibi'],['gigi masin','wind'],['massive attack ','no protection '],\n",
    "        ['midlake','the trials of van occupanther'],['charles mingus','mingus ah um'],['MR TC','Soundtrack for strangers'],\n",
    "        ['The olivia tremor control','Music from the Unrealized Film Script: Dusk at Cubist Castle'],['the stone roses','the stone roses'],\n",
    "        ['big star','#1 record'],['odd ','nosdam sisters'],['The other people place','lifestyles of the laptop café'],['Parquet Courts','Light up Gold'],\n",
    "        ['The Psychedelic Furs','Talk Talk Talk'],['Pylon','Gyrate'],['Nelson Riddle','Changing Colors'],['Roxy Music','Avalon'],['Roykksopp and robin','do it again'],\n",
    "        ['Talk Talk','Laughing stock'],['Placebo','1973'],['Saint Etienne','Foxbase alpha'],['Yasuaki Shimizu','Kakashi'],['Sloan','navy blues'],['Slowdive ','Souvlaki'],\n",
    "        ['Spoon ','Gimme Fiction'],['Dusty Springfield','Dusty in Memphis'],['Stars of the Lid','Avec Laudenum'],['Cat Stevens','Teaser and the Firecat'],['Talking Heads ','Remain in Light'],\n",
    "        ['Van Dyke Parks','Song Cycle'],['Al Stewart ','Year of the Cat'],['Gabor Szabo','Dreams'],['Tabos Project','Eyes of a Child'],\n",
    "        ['Midori Takada','Through the looking glass'],['Masayoshi Takanaka','An insatiable high'],['Tame impala','Lonerism'],\n",
    "        ['The 13th Floor Elevators','Easter Everywhere'],['Tin Pan Alley','Tin Pan Alley 2'],['Velvet Underground','White Light/White heat'],\n",
    "        ['John Coltrane','My Favourite Things'],['Telstar','Sounds of the Tornados'],['Kurt Vile','Walking on a pretty daze'],['Scott Walker','Scott 4'],\n",
    "        ['We Out Here','We out here'],['Wheedles Groove','Seattles Finest in Funk & Soul (1965-75)'],['The Who','Whos Next'],['Wilco ','being there '],\n",
    "        ['XTC','Skylarking'],['X-Ray Specs','Germfree Adolescents'],['MFSB','Love is the Message'],['Yo La Tengo','I Can Hear the Heart Beating as One'],['Hiroshi Yoshimura','Pier & Loft'],\n",
    "        ['You and I','You and I'],['Roland Young','Hearsay I-Land']]\n",
    "\n",
    "print(\" \".join([vinyl[i][1].split()[0] for i in range(9,105,10)]))"
   ]
  },
  {
   "cell_type": "code",
   "execution_count": 6,
   "metadata": {},
   "outputs": [
    {
     "data": {
      "text/markdown": [
       "### May 2021 : Solution\n",
       "\n",
       "With no clear instructions, this month’s puzzle was definitely on the harder side!\n",
       "Most of the records in the collection above are in alphabetical order, but not all. It turns out the records that are out of order are in positions 10, 11, 20, 21, 30, 31, …, 100, 101.\n",
       "The records in every 10th spot have each received a “perfect 10” rating from Pitchfork\n",
       "1\n",
       ".\n",
       "The records “past” these – i.e., the records in spots 11, 21, 31, …, 101, are:\n",
       "What’s\n",
       "Going On (by Marvin Gaye)\n",
       "The\n",
       "Dark Side of the Moon (Pink Floyd)\n",
       "Band\n",
       "on the Run (Paul McCartney & Wings)\n",
       "For\n",
       "You (Tatsuro Yamashita)\n",
       "The\n",
       "Slider (T. Rex)\n",
       "#1\n",
       "Record (Big Star)\n",
       "1973\n",
       "(Placebo)\n",
       "Song\n",
       "Cycle (Van Dyke Parks)\n",
       "My\n",
       "Favorite Things (John Coltrane)\n",
       "Love\n",
       "is the Message (MFSB)\n",
       "The first words of these “past tens” records form the question\n",
       "“What’s the band for the #1 1973 song ‘My Love’?”, and the answer is\n",
       "Paul McCartney\n",
       "2\n",
       "& Wings\n",
       ".\n",
       "[1] …those records being\n",
       "Low (David Bowie)\n",
       "On Fire (Galaxie 500)\n",
       "Unknown Pleasures (Joy Division)\n",
       "Loveless (My Bloody Valentine)\n",
       "Purple Rain (Prince)\n",
       "The Stone Roses\n",
       "Laughing Stock (Talk Talk)\n",
       "Remain in Light (Talking Heads)\n",
       "White Light/White Heat (The Velvet Underground)\n",
       "Germfree Adolescents (X-Ray Spex)\n",
       "[2] …who is alluded to with the knight on the lower-right corner and the\n",
       "die\n",
       "in the upper-left.\n",
       "Congrats to this month’s solvers who successfully decoded the question!"
      ],
      "text/plain": [
       "<IPython.core.display.Markdown object>"
      ]
     },
     "metadata": {},
     "output_type": "display_data"
    }
   ],
   "source": [
    "url='https://www.janestreet.com/puzzles/past-tens-solution/'\n",
    "res = requests.get(url)\n",
    "soup = BeautifulSoup(res.content, 'html.parser')\n",
    "y =[text for text in soup.body.stripped_strings]\n",
    "#display([(i,j) for i,j in enumerate(y)])\n",
    "display(Markdown(\"### \"+y[8]+\"\\n\\n\"+str(\"\\n\".join(y[10:57]))))"
   ]
  },
  {
   "cell_type": "code",
   "execution_count": null,
   "metadata": {},
   "outputs": [],
   "source": []
  }
 ],
 "metadata": {
  "colab": {
   "include_colab_link": true,
   "name": "JaneSt-Feb18.ipynb",
   "provenance": []
  },
  "kernelspec": {
   "display_name": "Python 3",
   "language": "python",
   "name": "python3"
  },
  "language_info": {
   "codemirror_mode": {
    "name": "ipython",
    "version": 3
   },
   "file_extension": ".py",
   "mimetype": "text/x-python",
   "name": "python",
   "nbconvert_exporter": "python",
   "pygments_lexer": "ipython3",
   "version": "3.7.10"
  }
 },
 "nbformat": 4,
 "nbformat_minor": 4
}
