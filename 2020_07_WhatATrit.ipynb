{
 "cells": [
  {
   "cell_type": "code",
   "execution_count": 9,
   "metadata": {},
   "outputs": [],
   "source": [
    "# Do imports\n",
    "import numpy as np\n",
    "import time\n",
    "import requests\n",
    "from bs4 import BeautifulSoup"
   ]
  },
  {
   "cell_type": "code",
   "execution_count": 12,
   "metadata": {},
   "outputs": [
    {
     "name": "stdout",
     "output_type": "stream",
     "text": [
      "Puzzle\n",
      "~~~~~~\n",
      "The country of Terniquaternaria follows an unusual numeral system. Its numbers are expressed as in base 4, but there are only three “digits”: 0, 1 and T, which has value (-1). For instance, the number “1T01” corresponds to the number 49 in the usual decimal system (i.e. +1*4^3-1*4^2+0*4^1+1*4^0). Due to the lack of a 4th digit, many numbers, such as 29, have no direct representation. Instead, the inhabitants of Terniquaternaria (called “Trits”) express them as the quotient of two representable numbers (when possible). For instance, 29 could be written as (1100T/1TT) or (11111T/1T0T), among other variants. Decimus just landed in Terniquaternaria and needs to write down his passport number (524293) on the admission form. Is it possible? If so, how can it be written? If not, can you prove impossibility?\n"
     ]
    }
   ],
   "source": [
    "url='https://www.janestreet.com/puzzles/what-a-trit/'\n",
    "res = requests.get(url)\n",
    "soup = BeautifulSoup(res.content, 'html.parser')\n",
    "x =[text for text in soup.body.stripped_strings]\n",
    "print(\"Puzzle\")\n",
    "print(\"~~~~~~\")\n",
    "print(\" \".join(x[7:9]))"
   ]
  },
  {
   "cell_type": "code",
   "execution_count": 45,
   "metadata": {},
   "outputs": [],
   "source": [
    "#Define conversion functions - Decimal to Trit and Trit to decimal .. approximate where the digit should be 2.\n",
    "def trit2dec(string):\n",
    "    x=0\n",
    "    number = 0\n",
    "    for i in reversed(string):\n",
    "        if i =='T':\n",
    "            i=-1\n",
    "        number += int(i)*4**x\n",
    "        x +=1\n",
    "    return number\n",
    "\n",
    "dig2str = {1: '1', -1: 'T', 0: '0'} \n",
    "\n",
    "def dec2trit(n):\n",
    "    def totrit(n):\n",
    "        if n == 0: return []\n",
    "        if (n % 4) == 0: \n",
    "            return [0] + totrit(n // 4)\n",
    "        if (n % 4) == 1: \n",
    "            return [1] + totrit(n // 4)\n",
    "        if (n % 4) == 2: \n",
    "            return [1] + totrit(n // 4)\n",
    "        if (n % 4) == 3: \n",
    "            return [-1] + totrit((n + 1) // 4)\n",
    "    return  \"\".join(dig2str[d] for d in reversed(totrit(n)) )  \n",
    "\n",
    "#speed up the search by only using valid trits! Convert to balanced ternary and use that as the divisor.\n",
    "def dec2baltern(n):\n",
    "    def tobt(n):\n",
    "        if n == 0: return []\n",
    "        if (n % 3) == 0: \n",
    "            return [0] + tobt(n // 3)\n",
    "        if (n % 3) == 1: \n",
    "            return [1] + tobt(n // 3)\n",
    "        if (n % 3) == 2: \n",
    "            return [-1] + tobt((n + 1) // 3)\n",
    "    return  \"\".join(dig2str[d] for d in reversed(tobt(n)) )  \n",
    " "
   ]
  },
  {
   "cell_type": "code",
   "execution_count": null,
   "metadata": {},
   "outputs": [
    {
     "name": "stdout",
     "output_type": "stream",
     "text": [
      "7 - The solution is 111/1T or 21/3= 7 in decimal\n",
      "7 - Done at 09:50:39\n",
      "13 - The solution is 1T1/1 or 13/1= 13 in decimal\n",
      "13 - Done at 09:50:39\n",
      "37 - The solution is 1TT00T/11T or 703/19= 37 in decimal\n",
      "37 - Done at 09:50:39\n",
      "133 - The solution is 1TTT10001/111T1 or 44,289/333= 133 in decimal\n",
      "133 - Done at 09:50:39\n",
      "517 - The solution is 1TTTT1T00T11/1111T01 or 2,804,725/5,425= 517 in decimal\n",
      "517 - Done at 09:50:39\n",
      "2053 - The solution is 1TTTTT1TT00T011/11111T001 or 179,089,349/87,233= 2,053 in decimal\n",
      "2053 - Done at 09:50:40\n",
      "8197 - The solution is 1TTTTTT1TTT00T0011/111111T0001 or 11,455,348,485/1,397,505= 8,197 in decimal\n",
      "8197 - Done at 09:50:46\n",
      "32773 - The solution is 1TTTTTTT1TTTT00T00011/1111111T00001 or 733,041,327,109/22,367,233= 32,773 in decimal\n",
      "32773 - Done at 09:51:58\n",
      "131077 - The solution is 1TTTTTTTT1TTTTT00T000011/11111111T000001 or 46,913,033,072,645/357,904,385= 131,077 in decimal\n",
      "131077 - Done at 10:07:40\n"
     ]
    }
   ],
   "source": [
    "# Brute force calculate the first few solutions for numbers of the form (4^i)*2 + 5\n",
    "\n",
    "for i in range(10):\n",
    "  test = (4**i)*2 +5\n",
    "  #print(test)  \n",
    "  for a in range(1,70000000):\n",
    "    balternary = dec2baltern(a)\n",
    "    y = trit2dec(balternary)\n",
    "    x = dec2trit(test*y)\n",
    "    y = dec2trit(y)\n",
    "    x_dec = trit2dec(x)\n",
    "    y_dec = trit2dec(y)\n",
    "\n",
    "    #print(x,x_dec)\n",
    "    #print(y,y_dec)\n",
    "    if x_dec/y_dec == test:\n",
    "        print('{} - The solution is {}/{} or {:,}/{:,} = {:,.0f} in decimal'.format(test,x,y,x_dec,y_dec,x_dec/y_dec))\n",
    "        break\n",
    "  print('{} - Done at {}'.format(test,time.strftime('%X')))"
   ]
  },
  {
   "cell_type": "code",
   "execution_count": 46,
   "metadata": {},
   "outputs": [
    {
     "name": "stdout",
     "output_type": "stream",
     "text": [
      "The solution is 3,002,408,341,848,069/5,726,584,833 = 524,293 in decimal\n"
     ]
    }
   ],
   "source": [
    "#Follow the same pattern\n",
    "x_dec = trit2dec('1TTTTTTTTT1TTTTTT00T0000011')\n",
    "y_dec = trit2dec('111111111T0000001')\n",
    "print('The solution is {:,}/{:,} = {:,.0f} in decimal'.format(x_dec,y_dec,x_dec/y_dec))"
   ]
  },
  {
   "cell_type": "code",
   "execution_count": 8,
   "metadata": {},
   "outputs": [
    {
     "name": "stdout",
     "output_type": "stream",
     "text": [
      "Solution\n",
      "~~~~~~~~\n",
      "This month’s puzzle was in fact solvable, and had multiple correct solutions.  One example is 1TTTTTTTTT1TTTTTT00T0000011/111111111T0000001 .  These trits, when converted to base 10, represent the ratio 3002408341848069/5726584833 = 524293.  It turns out every odd integer can be written as a ratio of representable numbers, although the proof is far from trivial, here is a paper about it.\n"
     ]
    }
   ],
   "source": [
    "\n",
    "url='https://www.janestreet.com/puzzles/solutions/july-2020-solution/'\n",
    "res = requests.get(url)\n",
    "soup = BeautifulSoup(res.content, 'html.parser')\n",
    "x =[text for text in soup.body.stripped_strings]\n",
    "print(\"Solution\")\n",
    "print(\"~~~~~~~~\")\n",
    "print(\" \".join(x[7:12]))"
   ]
  },
  {
   "cell_type": "code",
   "execution_count": null,
   "metadata": {},
   "outputs": [],
   "source": []
  }
 ],
 "metadata": {
  "kernelspec": {
   "display_name": "Python 3",
   "language": "python",
   "name": "python3"
  },
  "language_info": {
   "codemirror_mode": {
    "name": "ipython",
    "version": 3
   },
   "file_extension": ".py",
   "mimetype": "text/x-python",
   "name": "python",
   "nbconvert_exporter": "python",
   "pygments_lexer": "ipython3",
   "version": "3.7.7"
  }
 },
 "nbformat": 4,
 "nbformat_minor": 4
}
