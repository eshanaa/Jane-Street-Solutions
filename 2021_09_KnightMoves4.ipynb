{
 "cells": [
  {
   "cell_type": "code",
   "execution_count": 1,
   "metadata": {
    "id": "Oq1xibzMT1Wl"
   },
   "outputs": [],
   "source": [
    "import pandas as pd\n",
    "import numpy as np\n",
    "import time\n",
    "import seaborn as sns\n",
    "from matplotlib.colors import ListedColormap\n",
    "import matplotlib.pyplot as plt\n",
    "import requests\n",
    "from bs4 import BeautifulSoup\n",
    "from scipy.ndimage import generate_binary_structure\n",
    "from copy import copy\n",
    "\n",
    "from z3 import *\n",
    "from IPython.display import Markdown, display"
   ]
  },
  {
   "cell_type": "code",
   "execution_count": 2,
   "metadata": {
    "id": "ICTfvjZUT1Wr"
   },
   "outputs": [
    {
     "data": {
      "text/markdown": [
       "### September 2021 : Puzzle\n",
       "A knight was initially located in a square labeled 1. It then proceeded\n",
       "to make a series of moves, never re-visiting a square, and labeled\n",
       "the visited squares in order. When the knight was finished, the\n",
       "labeled squares in each region of connected squares\n",
       "1\n",
       "had the same sum.\n",
       "A short while later, many of the labels were erased. The remaining\n",
       "labels can be seen above.\n",
       "Complete the grid by re-entering the missing labels.\n",
       "The answer to this puzzle is the sum of the\n",
       "squares\n",
       "of the largest\n",
       "label in each row of the completed grid, as in the example."
      ],
      "text/plain": [
       "<IPython.core.display.Markdown object>"
      ]
     },
     "metadata": {},
     "output_type": "display_data"
    }
   ],
   "source": [
    "url='https://www.janestreet.com/puzzles/knight-moves-4-index/'\n",
    "res = requests.get(url)\n",
    "soup = BeautifulSoup(res.content, 'html.parser')\n",
    "y =[text for text in soup.body.stripped_strings]\n",
    "\n",
    "#display([(i,j) for i,j in enumerate(y)])\n",
    "display(Markdown(\"### \"+y[8]+\"\\n\"+\"\\n\".join(y[10:18])))"
   ]
  },
  {
   "cell_type": "markdown",
   "metadata": {
    "id": "844RhDFpT1Wu"
   },
   "source": [
    "<img src=\"https://www.janestreet.com/puzzles/2021-09-01-knight-moves-4.png\" width=350>"
   ]
  },
  {
   "cell_type": "code",
   "execution_count": 3,
   "metadata": {
    "id": "844RhDFpT1Wu"
   },
   "outputs": [],
   "source": [
    "# Set up the regions and fixed cells\n",
    "\n",
    "regions=np.array([\n",
    "                 [0, 0, 0, 0, 0, 0, 0, 0, 0, 0],\n",
    "                 [ 0, 0, 0, 1, 0, 0, 0, 0, 2, 0],\n",
    "                 [ 0, 0, 0, 1, 0, 0, 0, 0, 2, 0],\n",
    "                 [ 0, 0, 1, 1, 1, 1, 3, 2, 2, 2],\n",
    "                 [ 5, 0, 1, 0, 0, 4, 3, 3, 3, 3],\n",
    "                 [ 5, 0, 0, 0, 4, 4, 4,10,10, 3],\n",
    "                 [ 5, 6, 6, 7, 4, 9, 9,10,10,11],\n",
    "                 [ 5,12, 6, 7, 7, 8, 8, 8,10,11],\n",
    "                 [ 5,12,13, 7,16,16,16,15,15,11],\n",
    "                 [12,12,13,14,14,14,14,14,15,11]\n",
    "])\n",
    "\n",
    "fixed = np.array([\n",
    "       [12, 0, 0, 0, 0, 0, 0, 0, 0, 0],\n",
    "       [ 0, 0, 0, 0, 0, 0, 5, 0,23, 0],\n",
    "       [ 0, 0, 0, 0, 0, 0, 8, 0, 0, 0],\n",
    "       [ 0, 0, 0,14, 0, 0, 0, 0, 0, 0],\n",
    "       [ 0, 0, 0, 0, 0, 0, 0, 0, 0, 0],\n",
    "       [ 0, 2, 0, 0, 0, 0, 0, 0, 0, 0],\n",
    "       [ 0, 0, 0, 0,20, 0, 0, 0, 0, 0],\n",
    "       [ 0, 0, 0, 0,33, 0, 0, 0, 0, 0],\n",
    "       [ 0, 0, 0, 0, 0, 0, 0, 0, 0, 0],\n",
    "       [ 0, 0, 0, 0, 0, 0, 0, 0, 0,28]\n",
    "])"
   ]
  },
  {
   "cell_type": "code",
   "execution_count": 4,
   "metadata": {
    "id": "844RhDFpT1Wu"
   },
   "outputs": [
    {
     "data": {
      "image/png": "[encoded data removed]",
      "text/plain": [
       "<Figure size 288x288 with 1 Axes>"
      ]
     },
     "metadata": {
      "needs_background": "light"
     },
     "output_type": "display_data"
    },
    {
     "name": "stdout",
     "output_type": "stream",
     "text": [
      "Solution is : 3,210\n",
      "[12, 23, 8, 14, 0, 2, 20, 33, 0, 28]\n",
      "[144, 529, 64, 196, 0, 4, 400, 1089, 0, 784]\n"
     ]
    }
   ],
   "source": [
    "# print in a nice format and calc the answer\n",
    "\n",
    "def output(regions,fixed):\n",
    "    fig,ax = plt.subplots(1,1,figsize=(4,4))    \n",
    "    x = np.array((fixed).astype('int').astype('str'))\n",
    "    x[x==\"0\"] =\"-\"\n",
    "    ax =sns.heatmap(regions,annot=x,cbar=False,cmap='tab20',fmt=\"\",\n",
    "                    linewidths=1,linecolor=\"k\",annot_kws={\"size\":12,\"color\":\"k\"},alpha=.4,)\n",
    "    ax.axis(\"off\")\n",
    "    plt.tight_layout()\n",
    "    plt.show()\n",
    "    print(\"Solution is : {:,.0f}\".format(sum([max(fixed[i,:])**2 for i in range(fixed.shape[1])])))\n",
    "    print([max(fixed[i,:]) for i in range(fixed.shape[1])])\n",
    "    print([max(fixed[i,:])**2 for i in range(fixed.shape[1])])\n",
    "    \n",
    "output(regions,fixed)"
   ]
  },
  {
   "cell_type": "code",
   "execution_count": 5,
   "metadata": {
    "id": "844RhDFpT1Wu"
   },
   "outputs": [
    {
     "name": "stdout",
     "output_type": "stream",
     "text": [
      "Possible chain lengths where the total is divisible by 17 and the region totals :\n",
      "  [(33, 33), (34, 35), (50, 75), (51, 78), (67, 134), (68, 138), (84, 210), (85, 215)]\n",
      "Sum of large region given 11 & 13 must be in : 51\n",
      "Max given there are 2 regions with only 2 cells : 99 131 133\n"
     ]
    }
   ],
   "source": [
    "# The trick is to notice there are 17 regions which really limits the number of valid chain lengths. \n",
    "# You can't get to the large(chain  > 67) totals with 2 numbers and the large region already adds up to 51\n",
    "# as 13 & 11 have to be in that region,6\\ which excludes shorter chain lengths. 33 is one of the given numbrs\n",
    "# which implies the chain length is 50 or 51\n",
    "\n",
    "tot =  lambda x: x*(1+x)/2\n",
    "print(\"Possible chain lengths where the total is divisible by 17 and the region totals :\\n \",[(i,int(tot(i)/17)) for i in range(33,101) if tot(i) % 17 ==0 ])\n",
    "print(\"Sum of large region given 11 & 13 must be in :\" ,12+5+8+2+11+13)\n",
    "print(\"Max given there are 2 regions with only 2 cells :\" ,51+48,67+64,68+65)"
   ]
  },
  {
   "cell_type": "code",
   "execution_count": 6,
   "metadata": {
    "id": "844RhDFpT1Wu"
   },
   "outputs": [],
   "source": [
    "def moves(i,j,N):\n",
    "    moves=[(2, 1), (1, 2), (-1, 2), (-2, 1), (-2, -1), (-1, -2), (1, -2), (2, -1)]\n",
    "    return [(i+x,j+y) for x,y in moves if i+x >=0 and i+x<N and j+y>=0 and j+y<N ]"
   ]
  },
  {
   "cell_type": "code",
   "execution_count": 7,
   "metadata": {
    "id": "844RhDFpT1Wu"
   },
   "outputs": [],
   "source": [
    "def fill(regions,fixed,fix_y,tactic):\n",
    "    start = time.time()\n",
    "    N= regions.shape[0]\n",
    "    R =np.max(regions)\n",
    "    \n",
    "    X = np.array(IntVector('x', N*N),dtype=object).reshape((N,N))\n",
    "    Y = fix_y*(1+fix_y)/2/(R+1)\n",
    "    print(\"Total for each region : \",Y)\n",
    "            \n",
    "    s = Tactic(tactic).solver()\n",
    "    if R ==16:\n",
    "        s+= Or(And(X[1,2]==11,X[2,1]==13),And(X[1,2]==13,X[2,1]==11))\n",
    "        s+= Or(And(X[7,8]==27,X[8,7]==29),And(X[7,8]==29,X[8,7]==27))\n",
    "      \n",
    "    s += [And(e >= 0  ,e <= fix_y) for (i,j),e in np.ndenumerate(X)]\n",
    "    s += [X[i,j] == int(e) for (i,j),e in np.ndenumerate(fixed) if e !=0]\n",
    "    s += [Sum([e for (i,j),e in np.ndenumerate(X) if regions[i,j]==n])==Y for n in range(R+1)]\n",
    "    s += [Or(e==0,e==1,PbEq([(X[k,l]==e-1,1) for k,l in moves(i,j,N)],1)) for (i,j),e in np.ndenumerate(X)] \n",
    "    s += [PbEq([(e==n,1) for (i,j),e in np.ndenumerate(X)],1) for n in range(1,fix_y+1)]    \n",
    "    \n",
    "    if s.check() == sat:\n",
    "        m = s.model()\n",
    "        eval = np.vectorize(lambda x:m.evaluate(x).as_long())\n",
    "        result =  eval(X)\n",
    "        output(regions,result)\n",
    "        print(\"Took {:.4f} seconds\".format(time.time()-start))\n",
    "        return result\n",
    "    else:\n",
    "        print(\"{} failed in {:.4f} seconds\".format(fix_y,time.time()-start))       "
   ]
  },
  {
   "cell_type": "code",
   "execution_count": 8,
   "metadata": {
    "id": "844RhDFpT1Wu"
   },
   "outputs": [
    {
     "name": "stdout",
     "output_type": "stream",
     "text": [
      "Total for each region :  75.0\n"
     ]
    },
    {
     "data": {
      "image/png": "[encoded data removed]",
      "text/plain": [
       "<Figure size 288x288 with 1 Axes>"
      ]
     },
     "metadata": {
      "needs_background": "light"
     },
     "output_type": "display_data"
    },
    {
     "name": "stdout",
     "output_type": "stream",
     "text": [
      "Solution is : 14,820\n",
      "[12, 23, 17, 24, 50, 48, 49, 45, 46, 44]\n",
      "[144, 529, 289, 576, 2500, 2304, 2401, 2025, 2116, 1936]\n",
      "Took 8.5429 seconds\n"
     ]
    }
   ],
   "source": [
    "out =fill(regions,fixed,50,'pqffd')"
   ]
  },
  {
   "cell_type": "code",
   "execution_count": 9,
   "metadata": {},
   "outputs": [
    {
     "data": {
      "text/markdown": [
       "### September 2021 : Solution\n",
       "The above image shows the reconstructed path of the knight. The move\n",
       "count of 50 (and region sum of 75) can be deduced using three\n",
       "observations:\n",
       "the sum of all numbers must be a triangular number,\n",
       "the sum of all numbers must be divisible by the number of regions (17), and\n",
       "the regions of size 2 must have an odd sum by parity arguments of\n",
       "knight moves.\n",
       "Once this is known the path of the knight can be deduced by hand or\n",
       "with the aid of a program (we saw both solution methods). The sum of\n",
       "the squares of the maxima of each row comes to\n",
       "14820\n",
       ".\n",
       "Congrats to this month’s solvers who successfully deduced the\n",
       "knight’s path!"
      ],
      "text/plain": [
       "<IPython.core.display.Markdown object>"
      ]
     },
     "metadata": {},
     "output_type": "display_data"
    }
   ],
   "source": [
    "url='https://www.janestreet.com/puzzles/knight-moves-4-solution/'\n",
    "res = requests.get(url)\n",
    "soup = BeautifulSoup(res.content, 'html.parser')\n",
    "y =[text for text in soup.body.stripped_strings]\n",
    "\n",
    "#display([(i,j) for i,j in enumerate(y)])\n",
    "display(Markdown(\"### \"+y[8]+\"\\n\"+\"\\n\".join(y[10:18])))"
   ]
  },
  {
   "cell_type": "markdown",
   "metadata": {},
   "source": [
    "<img src=\"https://www.janestreet.com/puzzles/2021-09-01-knight-moves-4-solution.png\" width=350>"
   ]
  },
  {
   "cell_type": "code",
   "execution_count": 10,
   "metadata": {},
   "outputs": [],
   "source": [
    "regions1 =np.array([[0, 0, 0, 0, 0],\n",
    "                   [0, 0, 0, 0, 0],\n",
    "                   [0, 1, 0, 0, 0],\n",
    "                   [1, 1, 1, 1, 0],\n",
    "                   [1, 2, 2, 0, 0]])\n",
    "\n",
    "fixed1 =np.array([[1, 0, 0, 0, 0],\n",
    "                 [0, 0, 0, 0, 4],\n",
    "                 [0, 0, 0, 0, 0],\n",
    "                 [0, 0, 0, 0, 0],\n",
    "                 [0, 6, 0, 0, 0]])\n",
    "\n",
    "soln1 =np.array([[1, 0, 3, 0, 0],\n",
    "                 [0, 0, 0, 0, 4],\n",
    "                 [0, 2, 7, 0, 0],\n",
    "                 [8, 0, 0, 5, 0],\n",
    "                 [0, 6, 9, 0, 0]])"
   ]
  },
  {
   "cell_type": "code",
   "execution_count": 12,
   "metadata": {},
   "outputs": [
    {
     "name": "stdout",
     "output_type": "stream",
     "text": [
      "Total for each region :  15.0\n"
     ]
    },
    {
     "data": {
      "image/png": "[encoded data removed]",
      "text/plain": [
       "<Figure size 288x288 with 1 Axes>"
      ]
     },
     "metadata": {
      "needs_background": "light"
     },
     "output_type": "display_data"
    },
    {
     "name": "stdout",
     "output_type": "stream",
     "text": [
      "Solution is : 219\n",
      "[3, 4, 7, 8, 9]\n",
      "[9, 16, 49, 64, 81]\n",
      "Took 0.1556 seconds\n"
     ]
    }
   ],
   "source": [
    "out2 =fill(regions1,fixed1,9,'pqffd')"
   ]
  },
  {
   "cell_type": "code",
   "execution_count": null,
   "metadata": {},
   "outputs": [],
   "source": []
  }
 ],
 "metadata": {
  "colab": {
   "include_colab_link": true,
   "name": "JaneSt-Feb18.ipynb",
   "provenance": []
  },
  "kernelspec": {
   "display_name": "Python 3",
   "language": "python",
   "name": "python3"
  },
  "language_info": {
   "codemirror_mode": {
    "name": "ipython",
    "version": 3
   },
   "file_extension": ".py",
   "mimetype": "text/x-python",
   "name": "python",
   "nbconvert_exporter": "python",
   "pygments_lexer": "ipython3",
   "version": "3.7.10"
  }
 },
 "nbformat": 4,
 "nbformat_minor": 4
}
