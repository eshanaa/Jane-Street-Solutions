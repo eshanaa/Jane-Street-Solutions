{
 "cells": [
  {
   "cell_type": "code",
   "execution_count": 1,
   "id": "5b916d44-4458-437d-a944-4a5b42a3d0d5",
   "metadata": {},
   "outputs": [],
   "source": [
    "import numpy as np\n",
    "import time\n",
    "from random import random\n",
    "import matplotlib.pyplot as plt\n",
    "import numpy as np\n",
    "import scipy.stats as stats\n",
    "from scipy import signal\n",
    "import sympy as sy\n",
    "import requests\n",
    "from bs4 import BeautifulSoup\n",
    "from IPython.display import Markdown, display\n",
    "from sympy import oo, Symbol, integrate"
   ]
  },
  {
   "cell_type": "code",
   "execution_count": 2,
   "id": "5bebd8db-0476-4f39-a2dd-8f434eef5af9",
   "metadata": {},
   "outputs": [
    {
     "data": {
      "text/markdown": [
       "### Robot Tug-of-War\n",
       "The\n",
       "Robot Weightlifting World\n",
       "Championship\n",
       "was such a huge success that the organizers have hired you to help\n",
       "design its sequel: a Robot Tug-of-War Competition!\n",
       "In each one-on-one matchup, two robots are tied together with a\n",
       "rope. The center of the rope has a marker that begins above position 0\n",
       "on the ground. The robots then alternate pulling on the rope. The\n",
       "first robot pulls in the positive direction towards 1; the second\n",
       "robot pulls in the negative direction towards\n",
       "-1.\n",
       "Each pull moves\n",
       "the marker a uniformly random draw from [0,1] towards the pulling\n",
       "robot. If the marker first leaves the interval\n",
       "[‑½,½]\n",
       "past ½, the\n",
       "first robot wins. If instead it first leaves the interval past\n",
       "-½,\n",
       "the\n",
       "second robot wins.\n",
       "However, the organizers quickly noticed that the robot going second is\n",
       "at a disadvantage. They want to handicap the first robot by changing\n",
       "the initial position of the marker on the rope to be at some negative\n",
       "real number. Your job is to compute the position of the marker that\n",
       "makes each matchup a 50-50 competition between the robots.\n",
       "Find this\n",
       "position to seven significant digits"
      ],
      "text/plain": [
       "<IPython.core.display.Markdown object>"
      ]
     },
     "metadata": {},
     "output_type": "display_data"
    }
   ],
   "source": [
    "# Tricky one this month. Python/sympy wasn't enough and had to learn a bit of sagemath to get the answer\n",
    "# In order tried the following numerical solutions\n",
    "#\n",
    "# 1. Simulation - didn't converge\n",
    "# 2. Numerical convolution and integration. Slow and didn't trust the answers given numerical errors I was seeing\n",
    "# 3. Using sympy to do the convolutions but it doesn't handle piecewise functions well and hence is very slow. \n",
    "# 4. Pulled in SageMath and computed in that (doesn't allow variables in the domains for piecewise which was a bit of a pain.\n",
    "#    from a quick look at wolfram cloud that looks to be able to manage that which would make the solution much easier)\n",
    "\n",
    "# I've added in the published solutions below\n",
    "\n",
    "url='https://www.janestreet.com/puzzles/robot-tug-of-war-index/'\n",
    "res = requests.get(url)\n",
    "soup = BeautifulSoup(res.content, 'html.parser')\n",
    "y =[text for text in soup.body.stripped_strings]\n",
    "\n",
    "#display([(i,j) for i,j in enumerate(y)])\n",
    "display(Markdown(\"### \"+y[7]+\"\\n\"+\"\\n\".join(y[10:22])))"
   ]
  },
  {
   "cell_type": "code",
   "execution_count": 3,
   "id": "f22a64ef-0ed0-4ace-8248-cb81f6d409f9",
   "metadata": {},
   "outputs": [],
   "source": [
    "url='https://www.janestreet.com/puzzles/robot-tug-of-war-solution/'\n",
    "res = requests.get(url)\n",
    "soup = BeautifulSoup(res.content, 'html.parser')\n",
    "txt =[text for text in soup.body.stripped_strings]\n",
    "\n",
    "#display([(i,j) for i,j in enumerate(y)])"
   ]
  },
  {
   "cell_type": "code",
   "execution_count": 4,
   "id": "df959838-92b2-4e98-a949-17e96b66d58e",
   "metadata": {},
   "outputs": [],
   "source": [
    "x,y,C1,C2 = sy.symbols('x y C1 C2')\n",
    "f=sy.Function('f')"
   ]
  },
  {
   "cell_type": "code",
   "execution_count": 5,
   "id": "9296d8e3-e5f9-4f48-86ab-64ce8d8e19a3",
   "metadata": {},
   "outputs": [
    {
     "data": {
      "text/markdown": [
       "\n",
       "\n",
       "The symmetry of the game implies\n",
       "\n",
       "f\n",
       "(\n",
       "x\n",
       ") = Prob(Player 1 wins in the first move) + ∫\n",
       "x\n",
       "½\n",
       "Prob(Player 2 wins starting at position (-\n",
       "y\n",
       "))\n",
       "dy\n",
       "= (½ +\n",
       "x\n",
       ") + ∫\n",
       "x\n",
       "½\n",
       "(1 -\n",
       "f\n",
       "(-\n",
       "y\n",
       "))\n",
       "dy\n",
       "."
      ],
      "text/plain": [
       "<IPython.core.display.Markdown object>"
      ]
     },
     "metadata": {},
     "output_type": "display_data"
    },
    {
     "data": {
      "text/latex": [
       "$\\displaystyle f{\\left(x \\right)} = x + \\int\\limits_{x}^{0.5} \\left(1 - f{\\left(- y \\right)}\\right)\\, dy + 0.5$"
      ],
      "text/plain": [
       "Eq(f(x), x + Integral(1 - f(-y), (y, x, 0.5)) + 0.5)"
      ]
     },
     "metadata": {},
     "output_type": "display_data"
    }
   ],
   "source": [
    "display(Markdown(\"\\n\\n\"+txt[17]+\"\\n\\n\"+\"\\n\".join(txt[18:40])))                                \n",
    "\n",
    "Eq = sy.Eq(f(x),(1/2+x)+sy.integrate(1-f(-y),(y,x,1/2)))\n",
    "display(Eq)"
   ]
  },
  {
   "cell_type": "code",
   "execution_count": 6,
   "id": "a66fe846-e22a-461d-8b08-0c5f330bf225",
   "metadata": {},
   "outputs": [
    {
     "data": {
      "text/markdown": [
       "\n",
       "\n",
       "Differentiating and applying the fundamental theorem of calculus, we get\n",
       "\n",
       "f’\n",
       "(\n",
       "x\n",
       ") = 1 - (1 -\n",
       "f\n",
       "(-\n",
       "x\n",
       ")) =\n",
       "f\n",
       "(-\n",
       "x\n",
       ")."
      ],
      "text/plain": [
       "<IPython.core.display.Markdown object>"
      ]
     },
     "metadata": {},
     "output_type": "display_data"
    },
    {
     "data": {
      "text/latex": [
       "$\\displaystyle \\frac{d}{d x} f{\\left(x \\right)} = f{\\left(- x \\right)}$"
      ],
      "text/plain": [
       "Eq(Derivative(f(x), x), f(-x))"
      ]
     },
     "execution_count": 6,
     "metadata": {},
     "output_type": "execute_result"
    }
   ],
   "source": [
    "display(Markdown(\"\\n\\n\"+txt[40]+\"\\n\\n\"+\"\\n\".join(txt[41:53])))   \n",
    "\n",
    "Eq0 = sy.Eq(sy.diff(Eq.lhs,x),sy.diff(Eq.rhs,x))\n",
    "Eq0"
   ]
  },
  {
   "cell_type": "code",
   "execution_count": 7,
   "id": "414599fc-c647-4a01-8c4f-0cc498a0647d",
   "metadata": {},
   "outputs": [
    {
     "data": {
      "text/markdown": [
       "\n",
       "\n",
       "Differentiating again and employing the chain rule, and then substituting the equation above, we get\n",
       "\n",
       "f’’\n",
       "(\n",
       "x\n",
       ") =\n",
       "f’\n",
       "(-\n",
       "x\n",
       ")·(-1) = -\n",
       "f’\n",
       "(-\n",
       "x\n",
       ") = -\n",
       "f\n",
       "(\n",
       "x )"
      ],
      "text/plain": [
       "<IPython.core.display.Markdown object>"
      ]
     },
     "metadata": {},
     "output_type": "display_data"
    },
    {
     "data": {
      "text/latex": [
       "$\\displaystyle \\frac{d^{2}}{d x^{2}} f{\\left(x \\right)} = - f{\\left(x \\right)}$"
      ],
      "text/plain": [
       "Eq(Derivative(f(x), (x, 2)), -f(x))"
      ]
     },
     "metadata": {},
     "output_type": "display_data"
    }
   ],
   "source": [
    "display(Markdown(\"\\n\\n\"+txt[53]+\"\\n\\n\"+\"\\n\".join(txt[54:69])+\" )\"))    \n",
    "Eq1 = sy.Eq(sy.diff(f(x),x,2),-f(x))\n",
    "display(Eq1)"
   ]
  },
  {
   "cell_type": "code",
   "execution_count": 8,
   "id": "c58edbc0-72a7-4e43-81d4-746e5e706062",
   "metadata": {},
   "outputs": [
    {
     "data": {
      "text/latex": [
       "$\\displaystyle f{\\left(x \\right)} = C_{1} \\sin{\\left(x \\right)} + C_{2} \\cos{\\left(x \\right)}$"
      ],
      "text/plain": [
       "Eq(f(x), C1*sin(x) + C2*cos(x))"
      ]
     },
     "metadata": {},
     "output_type": "display_data"
    }
   ],
   "source": [
    "\n",
    "Eqs = sy.dsolve(Eq1)\n",
    "display(Eqs)"
   ]
  },
  {
   "cell_type": "code",
   "execution_count": 9,
   "id": "393f24a5-1d41-4d40-88c3-84d7f2f9537d",
   "metadata": {},
   "outputs": [
    {
     "data": {
      "text/markdown": [
       ").\n",
       "We need two boundary conditions to determine\n",
       "f\n",
       "exactly. First, it’s clear we must have\n",
       "f\n",
       "(½) = 1. Second, from the above formula,\n",
       "f’\n",
       "(0) =\n",
       "f\n",
       "(0)"
      ],
      "text/plain": [
       "<IPython.core.display.Markdown object>"
      ]
     },
     "metadata": {},
     "output_type": "display_data"
    },
    {
     "data": {
      "text/latex": [
       "$\\displaystyle 0.479425538604203 C_{1} + 0.877582561890373 C_{2} = 1$"
      ],
      "text/plain": [
       "Eq(0.479425538604203*C1 + 0.877582561890373*C2, 1)"
      ]
     },
     "metadata": {},
     "output_type": "display_data"
    },
    {
     "data": {
      "text/latex": [
       "$\\displaystyle C_{1} = C_{2}$"
      ],
      "text/plain": [
       "Eq(C1, C2)"
      ]
     },
     "metadata": {},
     "output_type": "display_data"
    }
   ],
   "source": [
    "display(Markdown(\"\\n\".join(txt[81:91])))  \n",
    "\n",
    "cnd0 = sy.Eq(Eqs.rhs.subs(x,1/2),1)\n",
    "cnd1 = sy.Eq(sy.diff(Eqs.rhs,x).subs(x,0),Eqs.rhs.subs(x,0))\n",
    "const = sy.solve([cnd0,cnd1])\n",
    "display(cnd0,cnd1)"
   ]
  },
  {
   "cell_type": "code",
   "execution_count": 10,
   "id": "ab9b9f66-2979-45a4-9c87-5ea9162b83f8",
   "metadata": {},
   "outputs": [
    {
     "data": {
      "text/latex": [
       "$\\displaystyle -0.285000121786337$"
      ],
      "text/plain": [
       "-0.285000121786337"
      ]
     },
     "execution_count": 10,
     "metadata": {},
     "output_type": "execute_result"
    }
   ],
   "source": [
    "soln = sy.solve(sy.Eq(Eqs.rhs.subs({C1:const[C1],C2:const[C2]}),0.5))\n",
    "\n",
    "soln[0]"
   ]
  },
  {
   "cell_type": "code",
   "execution_count": 19,
   "id": "ce7c32f0-38bb-4471-b933-597328b9c213",
   "metadata": {},
   "outputs": [
    {
     "data": {
      "text/markdown": [
       "### Robot Tug-of-War\n",
       "In order to find the starting position of the tug-of-war to make a\n",
       "fair fight, we define the functionfon [-0.5,0.5] as\n",
       "\n",
       "f\n",
       "(\n",
       "x\n",
       ") =: Prob(Player 1 wins at a starting position of x).\n",
       "\n",
       "The symmetry of the game implies\n",
       "\n",
       "f\n",
       "(\n",
       "x\n",
       ") = Prob(Player 1 wins in the first move) + ∫\n",
       "x\n",
       "½\n",
       "Prob(Player 2 wins starting at position (-\n",
       "y\n",
       "))\n",
       "dy\n",
       "= (½ +\n",
       "x\n",
       ") + ∫\n",
       "x\n",
       "½\n",
       "(1 -\n",
       "f\n",
       "(-\n",
       "y\n",
       "))\n",
       "dy\n",
       ".\n",
       "\n",
       "Differentiating and applying the fundamental theorem of calculus, we get\n",
       "\n",
       "f’\n",
       "(\n",
       "x\n",
       ") = 1 - (1 -\n",
       "f\n",
       "(-\n",
       "x\n",
       ")) =\n",
       "f\n",
       "(-\n",
       "x\n",
       ").\n",
       "\n",
       "Differentiating again and employing the chain rule, and then substituting the equation above, we get\n",
       "\n",
       "f’’\n",
       "(\n",
       "x\n",
       ") =\n",
       "f’\n",
       "(-\n",
       "x\n",
       ")·(-1) = -\n",
       "f’\n",
       "(-\n",
       "x\n",
       ") = -\n",
       "f\n",
       "(\n",
       "x\n",
       "\n",
       "). The general solution to this differential equation is\n",
       "\n",
       "f\n",
       "(\n",
       "x\n",
       ") =\n",
       "A\n",
       "sin(\n",
       "x\n",
       ") +\n",
       "B\n",
       "cos(\n",
       "x\n",
       ").\n",
       "\n",
       "We need two boundary conditions to determine\n",
       "f\n",
       "exactly. First, it’s clear we must have\n",
       "f\n",
       "(½) = 1. Second, from the above formula,\n",
       "f’\n",
       "(0) =\n",
       "f\n",
       "(0)\n",
       "\n",
       "Therefore,\n",
       "A\n",
       "sin(½) +\n",
       "B\n",
       "cos(½) = 1, and\n",
       "A\n",
       "cos(0) -\n",
       "B\n",
       "sin(0) =\n",
       "A\n",
       "sin(0) +\n",
       "B\n",
       "cos(0).\n",
       "\n",
       "The second equation implies\n",
       "A\n",
       "=\n",
       "B\n",
       ", and the first equation then gives\n",
       "A\n",
       "=\n",
       "B\n",
       "= 1/(sin(½) + cos(½)), so\n",
       "f\n",
       "(\n",
       "x\n",
       ") = (sin(\n",
       "x\n",
       ") + cos(\n",
       "x\n",
       "))/(sin(½) + cos(½)).\n",
       "\n",
       "Therefore the answer is the solution to (sin(\n",
       "x\n",
       ") +\n",
       "cos(\n",
       "x\n",
       "))/(sin(½) + cos(½)) = ½ on [-½,0].  A calculator can give this\n",
       "to the desired accuracy,\n",
       "-0.2850001…"
      ],
      "text/plain": [
       "<IPython.core.display.Markdown object>"
      ]
     },
     "metadata": {},
     "output_type": "display_data"
    }
   ],
   "source": [
    "display(Markdown(\"### \"+txt[7]+\"\\n\"+txt[10]+txt[11]+txt[12]+\"\\n\\n\"+\"\\n\".join(txt[13:17])+\n",
    "                 \"\\n\\n\"+txt[17]+\"\\n\\n\"+\"\\n\".join(txt[18:40])+\n",
    "                 \"\\n\\n\"+txt[40]+\"\\n\\n\"+\"\\n\".join(txt[41:53])+\n",
    "                 \"\\n\\n\"+txt[53]+\"\\n\\n\"+\"\\n\".join(txt[54:69])+\n",
    "                 \"\\n\\n\"+txt[69]+\"\\n\\n\"+\"\\n\".join(txt[70:82])+\n",
    "                 \"\\n\\n\"+\"\\n\".join(txt[82:91])+\n",
    "                 \"\\n\\n\"+\"\\n\".join(txt[91:104])+\n",
    "                 \"\\n\\n\"+\"\\n\".join(txt[104:121])+\n",
    "                 \"\\n\\n\"+\"\\n\".join(txt[121:127] )))     \n",
    "    \n",
    "    "
   ]
  },
  {
   "cell_type": "code",
   "execution_count": 12,
   "id": "fdb07b93-e674-466c-badb-1c5ca19741d6",
   "metadata": {},
   "outputs": [],
   "source": [
    "def game(start):\n",
    "    x = start\n",
    "    while True:\n",
    "        x += random()\n",
    "        if x > 0.5:\n",
    "            return 1\n",
    "            break\n",
    "        x -= random()\n",
    "        if x < -0.5:\n",
    "            return 0\n",
    "            break\n",
    "            \n",
    "def sim(start,iters):\n",
    "    for i in range(iters):\n",
    "        n+=1\n",
    "        x+= game(start)\n",
    "        return(x/n)"
   ]
  },
  {
   "cell_type": "code",
   "execution_count": 18,
   "id": "c1741089-e742-4bbe-9604-3ca18000edab",
   "metadata": {},
   "outputs": [
    {
     "name": "stdout",
     "output_type": "stream",
     "text": [
      "After 200000 sims average=0.4992850/0.4989650/0.5027400\n",
      "After 400000 sims average=0.5003650/0.4992800/0.5015500\n",
      "After 600000 sims average=0.5002367/0.5000600/0.5008083\n",
      "After 800000 sims average=0.5007850/0.5000500/0.5004513\n",
      "After 1000000 sims average=0.5005790/0.5005240/0.5003470\n",
      "After 1200000 sims average=0.5002833/0.5004592/0.5005092\n",
      "After 1400000 sims average=0.5003250/0.5004500/0.5003607\n",
      "After 1600000 sims average=0.5001800/0.5005525/0.5003119\n",
      "After 1800000 sims average=0.5004383/0.5007061/0.5000694\n",
      "After 2000000 sims average=0.5004965/0.5006265/0.4999150\n",
      "After 2200000 sims average=0.5004636/0.5004791/0.4997709\n",
      "After 2400000 sims average=0.5004679/0.5004079/0.4998096\n",
      "After 2600000 sims average=0.5005327/0.5002812/0.4997242\n",
      "After 2800000 sims average=0.5005643/0.5003268/0.4997200\n",
      "After 3000000 sims average=0.5004950/0.5002843/0.4997300\n",
      "After 3200000 sims average=0.5005341/0.5001756/0.4998472\n",
      "After 3400000 sims average=0.5005768/0.5001050/0.4998926\n",
      "After 3600000 sims average=0.5005144/0.5000833/0.4998881\n",
      "After 3800000 sims average=0.5004966/0.5000071/0.4998187\n",
      "After 4000000 sims average=0.5004675/0.4999737/0.4997815\n"
     ]
    }
   ],
   "source": [
    "n= 0\n",
    "x = 0\n",
    "y = 0\n",
    "z= 0\n",
    "\n",
    "for i in range(4000000):\n",
    "    n+=1\n",
    "    x+= game(-.285)\n",
    "    y+= game(-.2850001)\n",
    "    z+= game(-.2850002)\n",
    "    if n %20e4 ==0:\n",
    "        print(\"After {} sims average={:.7f}/{:.7f}/{:.7f}\".format(n,x/n,y/n,z/n))\n",
    "    "
   ]
  },
  {
   "cell_type": "code",
   "execution_count": 14,
   "id": "24332b3b-a2f1-493a-846e-3aba44d23bed",
   "metadata": {},
   "outputs": [
    {
     "name": "stdout",
     "output_type": "stream",
     "text": [
      "A wins 0.21550\n"
     ]
    },
    {
     "data": {
      "image/png": "[encoded data removed]",
      "text/plain": [
       "<Figure size 288x144 with 1 Axes>"
      ]
     },
     "metadata": {
      "needs_background": "light"
     },
     "output_type": "display_data"
    },
    {
     "name": "stdout",
     "output_type": "stream",
     "text": [
      "0.7845000000000002\n",
      "B wins 0.30772\n"
     ]
    },
    {
     "data": {
      "image/png": "[encoded data removed]",
      "text/plain": [
       "<Figure size 288x144 with 1 Axes>"
      ]
     },
     "metadata": {
      "needs_background": "light"
     },
     "output_type": "display_data"
    },
    {
     "name": "stdout",
     "output_type": "stream",
     "text": [
      "0.4767810517479997\n",
      "A wins 0.16500\n"
     ]
    },
    {
     "data": {
      "image/png": "[encoded data removed]",
      "text/plain": [
       "<Figure size 288x144 with 1 Axes>"
      ]
     },
     "metadata": {
      "needs_background": "light"
     },
     "output_type": "display_data"
    },
    {
     "name": "stdout",
     "output_type": "stream",
     "text": [
      "0.31178093371925986\n",
      "B wins 0.11497\n"
     ]
    },
    {
     "data": {
      "image/png": "[encoded data removed]",
      "text/plain": [
       "<Figure size 288x144 with 1 Axes>"
      ]
     },
     "metadata": {
      "needs_background": "light"
     },
     "output_type": "display_data"
    },
    {
     "name": "stdout",
     "output_type": "stream",
     "text": [
      "0.1968136942476139\n",
      "A wins 0.07113\n"
     ]
    },
    {
     "data": {
      "image/png": "[encoded data removed]",
      "text/plain": [
       "<Figure size 288x144 with 1 Axes>"
      ]
     },
     "metadata": {
      "needs_background": "light"
     },
     "output_type": "display_data"
    },
    {
     "name": "stdout",
     "output_type": "stream",
     "text": [
      "0.12567918017897403\n",
      "B wins 0.04575\n"
     ]
    },
    {
     "data": {
      "image/png": "[encoded data removed]",
      "text/plain": [
       "<Figure size 288x144 with 1 Axes>"
      ]
     },
     "metadata": {
      "needs_background": "light"
     },
     "output_type": "display_data"
    },
    {
     "name": "stdout",
     "output_type": "stream",
     "text": [
      "0.07992971985333307\n",
      "A wins 0.02903\n"
     ]
    },
    {
     "data": {
      "image/png": "[encoded data removed]",
      "text/plain": [
       "<Figure size 288x144 with 1 Axes>"
      ]
     },
     "metadata": {
      "needs_background": "light"
     },
     "output_type": "display_data"
    },
    {
     "name": "stdout",
     "output_type": "stream",
     "text": [
      "0.050902015970529055\n",
      "B wins 0.01850\n"
     ]
    },
    {
     "data": {
      "image/png": "[encoded data removed]",
      "text/plain": [
       "<Figure size 288x144 with 1 Axes>"
      ]
     },
     "metadata": {
      "needs_background": "light"
     },
     "output_type": "display_data"
    },
    {
     "name": "stdout",
     "output_type": "stream",
     "text": [
      "0.03240168376561803\n",
      "A wins 0.01177\n"
     ]
    },
    {
     "data": {
      "image/png": "[encoded data removed]",
      "text/plain": [
       "<Figure size 288x144 with 1 Axes>"
      ]
     },
     "metadata": {
      "needs_background": "light"
     },
     "output_type": "display_data"
    },
    {
     "name": "stdout",
     "output_type": "stream",
     "text": [
      "0.020628257869814037\n",
      "B wins 0.00750\n"
     ]
    },
    {
     "data": {
      "image/png": "[encoded data removed]",
      "text/plain": [
       "<Figure size 288x144 with 1 Axes>"
      ]
     },
     "metadata": {
      "needs_background": "light"
     },
     "output_type": "display_data"
    },
    {
     "name": "stdout",
     "output_type": "stream",
     "text": [
      "0.013132239888093927\n",
      "A wins 0.00477\n"
     ]
    },
    {
     "data": {
      "image/png": "[encoded data removed]",
      "text/plain": [
       "<Figure size 288x144 with 1 Axes>"
      ]
     },
     "metadata": {
      "needs_background": "light"
     },
     "output_type": "display_data"
    },
    {
     "name": "stdout",
     "output_type": "stream",
     "text": [
      "0.49720685438642664\n"
     ]
    }
   ],
   "source": [
    "plt.rcParams[\"figure.figsize\"] = (4,2)\n",
    "\n",
    "a_dist = stats.uniform(loc=0, scale=1)\n",
    "b_dist = stats.uniform(loc=-1, scale=1)\n",
    "delta = 1e-6\n",
    "big_grid = np.arange(-1.5,1.5,delta)\n",
    "\n",
    "pmf_a = a_dist.pdf(big_grid)*delta\n",
    "pmf_b = b_dist.pdf(big_grid)*delta\n",
    "\n",
    "a_win = 0\n",
    "\n",
    "running = stats.uniform(loc=-0.2845, scale=1).pdf(big_grid)*delta \n",
    "\n",
    "a_win += np.trapz(running[big_grid>0.5]/delta, big_grid[big_grid>0.5])\n",
    "print(\"A wins {:.5f}\".format(np.trapz(running[big_grid>0.5]/delta, big_grid[big_grid>0.5])))\n",
    "\n",
    "plt.axvline(0.5,dashes=(2,2),c='r')\n",
    "plt.plot(big_grid, running/delta)\n",
    "plt.show()\n",
    "running[big_grid>0.5] =0\n",
    "\n",
    "for i in range(5):\n",
    "    running = signal.fftconvolve(running,pmf_b,\"same\")\n",
    "    print(max(running/delta))\n",
    "    print(\"B wins {:.5f}\".format(np.trapz(running[big_grid<-0.5]/delta, big_grid[big_grid<-0.5])))\n",
    "    plt.plot(big_grid, running/delta)\n",
    "    plt.axvline(-0.5,dashes=(2,2),c='r')\n",
    "    plt.axvline(-0,dashes=(2,2),c='g')\n",
    "    plt.show()\n",
    "    running[big_grid<-0.5] =0\n",
    "    \n",
    "    running = signal.fftconvolve(running,pmf_a,'same')\n",
    "    print(max(running/delta))\n",
    "    print(\"A wins {:.5f}\".format(np.trapz(running[big_grid>0.5]/delta, big_grid[big_grid>0.5])))\n",
    "    plt.axvline(0.5,dashes=(2,2),c='r')\n",
    "    plt.plot(big_grid, running/delta)\n",
    "    plt.show()\n",
    "    a_win += np.trapz(running[big_grid>0.5]/delta, big_grid[big_grid>0.5])\n",
    "    running[big_grid>0.5] =0\n",
    "    \n",
    "print(a_win)    "
   ]
  },
  {
   "cell_type": "code",
   "execution_count": 15,
   "id": "db7067aa-1fe2-4ec9-9a96-9aba670fe3e4",
   "metadata": {},
   "outputs": [],
   "source": [
    "def convolve(f, g, t, lower=-oo, upper=oo):\n",
    "    tau = Symbol('tau', real=True)\n",
    "    return sy.diff(sy.integrate(sy.piecewise_fold(sy.integrate(f.subs(t, tau) * g.subs(t, t - tau),(tau,-oo,oo)).rewrite('Piecewise'))))\n",
    "\n",
    "x  =Symbol('x',real=True)\n",
    "a = sy.Piecewise((0, x < 0), (1, x < 1), (0, True))\n",
    "b = sy.Piecewise((0, x < -1), (1, x < 0), (0, True))\n",
    "\n",
    "a_filter = lambda z:sy.diff(sy.integrate(sy.piecewise_fold(z*sy.Piecewise((0,x > 1/2),(1,True)))))\n",
    "b_filter = lambda z:sy.diff(sy.integrate(sy.piecewise_fold(z*sy.Piecewise((0,x < -1/2),(1,True)))))"
   ]
  },
  {
   "cell_type": "code",
   "execution_count": 16,
   "id": "e52cb2fd-f36c-478c-97d5-ce4466f6773e",
   "metadata": {},
   "outputs": [
    {
     "data": {
      "text/plain": [
       "'Starting Dist'"
      ]
     },
     "metadata": {},
     "output_type": "display_data"
    },
    {
     "data": {
      "text/latex": [
       "$\\displaystyle \\begin{cases} 0 & \\text{for}\\: x < 0 \\\\1 & \\text{for}\\: x < 1 \\\\0 & \\text{otherwise} \\end{cases}$"
      ],
      "text/plain": [
       "Piecewise((0, x < 0), (1, x < 1), (0, True))"
      ]
     },
     "metadata": {},
     "output_type": "display_data"
    },
    {
     "name": "stdout",
     "output_type": "stream",
     "text": [
      "A chance 0.500000000000000\n"
     ]
    },
    {
     "data": {
      "text/plain": [
       "'After A cut'"
      ]
     },
     "metadata": {},
     "output_type": "display_data"
    },
    {
     "data": {
      "text/latex": [
       "$\\displaystyle \\begin{cases} 0 & \\text{for}\\: x < 0 \\\\1 & \\text{for}\\: x \\leq 0.5 \\\\0 & \\text{otherwise} \\end{cases}$"
      ],
      "text/plain": [
       "Piecewise((0, x < 0), (1, x <= 0.5), (0, True))"
      ]
     },
     "metadata": {},
     "output_type": "display_data"
    },
    {
     "data": {
      "text/plain": [
       "'After B move'"
      ]
     },
     "metadata": {},
     "output_type": "display_data"
    },
    {
     "data": {
      "text/latex": [
       "$\\displaystyle \\begin{cases} 0 & \\text{for}\\: x \\leq -1 \\\\x + 1 & \\text{for}\\: x \\leq -0.5 \\\\0.5 & \\text{for}\\: x \\leq 0 \\\\0.5 - 1.0 x & \\text{for}\\: x \\leq 0.5 \\\\0 & \\text{otherwise} \\end{cases}$"
      ],
      "text/plain": [
       "Piecewise((0, x <= -1), (x + 1, x <= -0.5), (0.5, x <= 0), (0.5 - 1.0*x, x <= 0.5), (0, True))"
      ]
     },
     "metadata": {},
     "output_type": "display_data"
    },
    {
     "data": {
      "text/plain": [
       "'integral'"
      ]
     },
     "metadata": {},
     "output_type": "display_data"
    },
    {
     "data": {
      "text/latex": [
       "$\\displaystyle \\begin{cases} 0 & \\text{for}\\: x \\leq -1 \\\\\\frac{x^{2}}{2} + x + \\frac{1}{2} & \\text{for}\\: x \\leq -0.5 \\\\0.5 x + 0.375 & \\text{for}\\: x \\leq 0 \\\\- 0.5 x^{2} + 0.5 x + 0.375 & \\text{for}\\: x \\leq 0.5 \\\\0.5 & \\text{otherwise} \\end{cases}$"
      ],
      "text/plain": [
       "Piecewise((0, x <= -1), (x**2/2 + x + 1/2, x <= -0.5), (0.5*x + 0.375, x <= 0), (-0.5*x**2 + 0.5*x + 0.375, x <= 0.5), (0.5, True))"
      ]
     },
     "metadata": {},
     "output_type": "display_data"
    },
    {
     "name": "stdout",
     "output_type": "stream",
     "text": [
      "B chance 0.125000000000000\n"
     ]
    },
    {
     "data": {
      "text/plain": [
       "'After B cut'"
      ]
     },
     "metadata": {},
     "output_type": "display_data"
    },
    {
     "data": {
      "text/latex": [
       "$\\displaystyle \\begin{cases} 0 & \\text{for}\\: x < -0.5 \\\\0.5 & \\text{for}\\: x \\leq 0 \\\\0.5 - 1.0 x & \\text{for}\\: x \\leq 0.5 \\\\0 & \\text{otherwise} \\end{cases}$"
      ],
      "text/plain": [
       "Piecewise((0, x < -0.5), (0.5, x <= 0), (0.5 - 1.0*x, x <= 0.5), (0, True))"
      ]
     },
     "metadata": {},
     "output_type": "display_data"
    },
    {
     "data": {
      "text/plain": [
       "'After A move'"
      ]
     },
     "metadata": {},
     "output_type": "display_data"
    },
    {
     "data": {
      "text/latex": [
       "$\\displaystyle \\begin{cases} 0 & \\text{for}\\: x \\leq -0.5 \\\\0.5 x + 0.25 & \\text{for}\\: x \\leq 0 \\\\- 0.5 x^{2} + 0.5 x + 0.25 & \\text{for}\\: x \\leq 0.5 \\\\0.625 - 0.5 x & \\text{for}\\: x \\leq 1 \\\\0.5 x^{2} - 1.5 x + 1.125 & \\text{for}\\: x \\leq 1.5 \\\\0 & \\text{otherwise} \\end{cases}$"
      ],
      "text/plain": [
       "Piecewise((0, x <= -0.5), (0.5*x + 0.25, x <= 0), (-0.5*x**2 + 0.5*x + 0.25, x <= 0.5), (0.625 - 0.5*x, x <= 1), (0.5*x**2 - 1.5*x + 1.125, x <= 1.5), (0, True))"
      ]
     },
     "metadata": {},
     "output_type": "display_data"
    },
    {
     "data": {
      "text/plain": [
       "'integral'"
      ]
     },
     "metadata": {},
     "output_type": "display_data"
    },
    {
     "data": {
      "text/latex": [
       "$\\displaystyle \\begin{cases} 0 & \\text{for}\\: x \\leq -0.5 \\\\0.25 x^{2} + 0.25 x + 0.0625 & \\text{for}\\: x \\leq 0 \\\\- 0.166666666666667 x^{3} + 0.25 x^{2} + 0.25 x + 0.0625 & \\text{for}\\: x \\leq 0.5 \\\\- 0.25 x^{2} + 0.625 x - 0.0208333333333333 & \\text{for}\\: x \\leq 1 \\\\0.166666666666667 x^{3} - 0.75 x^{2} + 1.125 x - 0.1875 & \\text{for}\\: x \\leq 1.5 \\\\0.375 & \\text{otherwise} \\end{cases}$"
      ],
      "text/plain": [
       "Piecewise((0, x <= -0.5), (0.25*x**2 + 0.25*x + 0.0625, x <= 0), (-0.166666666666667*x**3 + 0.25*x**2 + 0.25*x + 0.0625, x <= 0.5), (-0.25*x**2 + 0.625*x - 0.0208333333333333, x <= 1), (0.166666666666667*x**3 - 0.75*x**2 + 1.125*x - 0.1875, x <= 1.5), (0.375, True))"
      ]
     },
     "metadata": {},
     "output_type": "display_data"
    },
    {
     "name": "stdout",
     "output_type": "stream",
     "text": [
      "A chance 0.145833333333333\n"
     ]
    },
    {
     "data": {
      "text/plain": [
       "'After A cut'"
      ]
     },
     "metadata": {},
     "output_type": "display_data"
    },
    {
     "data": {
      "text/latex": [
       "$\\displaystyle \\begin{cases} 0 & \\text{for}\\: x \\leq -0.5 \\\\0.5 x + 0.25 & \\text{for}\\: x \\leq 0 \\\\- 0.5 x^{2} + 0.5 x + 0.25 & \\text{for}\\: x \\leq 0.5 \\\\0 & \\text{otherwise} \\end{cases}$"
      ],
      "text/plain": [
       "Piecewise((0, x <= -0.5), (0.5*x + 0.25, x <= 0), (-0.5*x**2 + 0.5*x + 0.25, x <= 0.5), (0, True))"
      ]
     },
     "metadata": {},
     "output_type": "display_data"
    },
    {
     "data": {
      "text/plain": [
       "'After B move'"
      ]
     },
     "metadata": {},
     "output_type": "display_data"
    },
    {
     "data": {
      "text/latex": [
       "$\\displaystyle \\begin{cases} 1.73472347597681 \\cdot 10^{-17} & \\text{for}\\: x \\leq -1.5 \\\\0.25 x^{2} + 0.75 x + 0.5625 & \\text{for}\\: x \\leq -1 \\\\- 0.166666666666667 x^{3} - 0.25 x^{2} + 0.25 x + 0.395833333333333 & \\text{for}\\: x \\leq -0.5 \\\\- 0.25 x^{2} - 0.25 x + 0.166666666666667 & \\text{for}\\: x \\leq 0 \\\\0.166666666666667 x^{3} - 0.25 x^{2} - 0.25 x + 0.166666666666667 & \\text{for}\\: x \\leq 0.5 \\\\0 & \\text{otherwise} \\end{cases}$"
      ],
      "text/plain": [
       "Piecewise((1.73472347597681e-17, x <= -1.5), (0.25*x**2 + 0.75*x + 0.5625, x <= -1), (-0.166666666666667*x**3 - 0.25*x**2 + 0.25*x + 0.395833333333333, x <= -0.5), (-0.25*x**2 - 0.25*x + 0.166666666666667, x <= 0), (0.166666666666667*x**3 - 0.25*x**2 - 0.25*x + 0.166666666666667, x <= 0.5), (0, True))"
      ]
     },
     "metadata": {},
     "output_type": "display_data"
    },
    {
     "data": {
      "text/plain": [
       "'integral'"
      ]
     },
     "metadata": {},
     "output_type": "display_data"
    },
    {
     "data": {
      "text/latex": [
       "$\\displaystyle \\begin{cases} 1.73472347597681 \\cdot 10^{-17} x & \\text{for}\\: x \\leq -1.5 \\\\0.0833333333333333 x^{3} + 0.375 x^{2} + 0.5625 x + 0.28125 & \\text{for}\\: x \\leq -1 \\\\- 0.0416666666666667 x^{4} - 0.0833333333333333 x^{3} + 0.125 x^{2} + 0.395833333333333 x + 0.239583333333333 & \\text{for}\\: x \\leq -0.5 \\\\- 0.0833333333333333 x^{3} - 0.125 x^{2} + 0.166666666666667 x + 0.184895833333333 & \\text{for}\\: x \\leq 0 \\\\0.0416666666666667 x^{4} - 0.0833333333333333 x^{3} - 0.125 x^{2} + 0.166666666666667 x + 0.184895833333333 & \\text{for}\\: x \\leq 0.5 \\\\0.229166666666667 & \\text{otherwise} \\end{cases}$"
      ],
      "text/plain": [
       "Piecewise((1.73472347597681e-17*x, x <= -1.5), (0.0833333333333333*x**3 + 0.375*x**2 + 0.5625*x + 0.28125, x <= -1), (-0.0416666666666667*x**4 - 0.0833333333333333*x**3 + 0.125*x**2 + 0.395833333333333*x + 0.239583333333333, x <= -0.5), (-0.0833333333333333*x**3 - 0.125*x**2 + 0.166666666666667*x + 0.184895833333333, x <= 0), (0.0416666666666667*x**4 - 0.0833333333333333*x**3 - 0.125*x**2 + 0.166666666666667*x + 0.184895833333333, x <= 0.5), (0.229166666666667, True))"
      ]
     },
     "metadata": {},
     "output_type": "display_data"
    },
    {
     "name": "stdout",
     "output_type": "stream",
     "text": [
      "B chance 0.0807291666666667\n"
     ]
    },
    {
     "data": {
      "text/plain": [
       "'After B cut'"
      ]
     },
     "metadata": {},
     "output_type": "display_data"
    },
    {
     "data": {
      "text/latex": [
       "$\\displaystyle \\begin{cases} 0 & \\text{for}\\: x < -0.5 \\\\- 0.25 x^{2} - 0.25 x + 0.166666666666667 & \\text{for}\\: x \\leq 0 \\\\0.166666666666667 x^{3} - 0.25 x^{2} - 0.25 x + 0.166666666666667 & \\text{for}\\: x \\leq 0.5 \\\\0 & \\text{otherwise} \\end{cases}$"
      ],
      "text/plain": [
       "Piecewise((0, x < -0.5), (-0.25*x**2 - 0.25*x + 0.166666666666667, x <= 0), (0.166666666666667*x**3 - 0.25*x**2 - 0.25*x + 0.166666666666667, x <= 0.5), (0, True))"
      ]
     },
     "metadata": {},
     "output_type": "display_data"
    },
    {
     "data": {
      "text/plain": [
       "'After A move'"
      ]
     },
     "metadata": {},
     "output_type": "display_data"
    },
    {
     "data": {
      "text/latex": [
       "$\\displaystyle \\begin{cases} 0 & \\text{for}\\: x \\leq -0.5 \\\\- 0.0833333333333333 x^{3} - 0.125 x^{2} + 0.166666666666667 x + 0.104166666666667 & \\text{for}\\: x \\leq 0 \\\\0.0416666666666667 x^{4} - 0.0833333333333333 x^{3} - 0.125 x^{2} + 0.166666666666667 x + 0.104166666666667 & \\text{for}\\: x \\leq 0.5 \\\\0.0833333333333333 x^{3} - 0.125 x^{2} - 0.166666666666667 x + 0.252604166666667 & \\text{for}\\: x \\leq 1 \\\\- 0.0416666666666667 x^{4} + 0.25 x^{3} - 0.375 x^{2} + 2.77555756156289 \\cdot 10^{-17} x + 0.2109375 & \\text{for}\\: x \\leq 1.5 \\\\0 & \\text{otherwise} \\end{cases}$"
      ],
      "text/plain": [
       "Piecewise((0, x <= -0.5), (-0.0833333333333333*x**3 - 0.125*x**2 + 0.166666666666667*x + 0.104166666666667, x <= 0), (0.0416666666666667*x**4 - 0.0833333333333333*x**3 - 0.125*x**2 + 0.166666666666667*x + 0.104166666666667, x <= 0.5), (0.0833333333333333*x**3 - 0.125*x**2 - 0.166666666666667*x + 0.252604166666667, x <= 1), (-0.0416666666666667*x**4 + 0.25*x**3 - 0.375*x**2 + 2.77555756156289e-17*x + 0.2109375, x <= 1.5), (0, True))"
      ]
     },
     "metadata": {},
     "output_type": "display_data"
    },
    {
     "data": {
      "text/plain": [
       "'integral'"
      ]
     },
     "metadata": {},
     "output_type": "display_data"
    },
    {
     "data": {
      "text/latex": [
       "$\\displaystyle \\begin{cases} 0 & \\text{for}\\: x \\leq -0.5 \\\\- 0.0208333333333333 x^{4} - 0.0416666666666667 x^{3} + 0.0833333333333333 x^{2} + 0.104166666666667 x + 0.02734375 & \\text{for}\\: x \\leq 0 \\\\0.00833333333333333 x^{5} - 0.0208333333333333 x^{4} - 0.0416666666666667 x^{3} + 0.0833333333333333 x^{2} + 0.104166666666667 x + 0.02734375 & \\text{for}\\: x \\leq 0.5 \\\\0.0208333333333333 x^{4} - 0.0416666666666667 x^{3} - 0.0833333333333333 x^{2} + 0.252604166666667 x - 0.00755208333333336 & \\text{for}\\: x \\leq 1 \\\\- 0.00833333333333333 x^{5} + 0.0625 x^{4} - 0.125 x^{3} + 1.38777878078145 \\cdot 10^{-17} x^{2} + 0.2109375 x + 0.000781249999999956 & \\text{for}\\: x \\leq 1.5 \\\\0.1484375 & \\text{otherwise} \\end{cases}$"
      ],
      "text/plain": [
       "Piecewise((0, x <= -0.5), (-0.0208333333333333*x**4 - 0.0416666666666667*x**3 + 0.0833333333333333*x**2 + 0.104166666666667*x + 0.02734375, x <= 0), (0.00833333333333333*x**5 - 0.0208333333333333*x**4 - 0.0416666666666667*x**3 + 0.0833333333333333*x**2 + 0.104166666666667*x + 0.02734375, x <= 0.5), (0.0208333333333333*x**4 - 0.0416666666666667*x**3 - 0.0833333333333333*x**2 + 0.252604166666667*x - 0.00755208333333336, x <= 1), (-0.00833333333333333*x**5 + 0.0625*x**4 - 0.125*x**3 + 1.38777878078145e-17*x**2 + 0.2109375*x + 0.000781249999999956, x <= 1.5), (0.1484375, True))"
      ]
     },
     "metadata": {},
     "output_type": "display_data"
    },
    {
     "name": "stdout",
     "output_type": "stream",
     "text": [
      "A chance 0.0544270833333334\n"
     ]
    }
   ],
   "source": [
    "p = sy.Piecewise((0, x < 0), (1, x < 1), (0, True))\n",
    "display(\"Starting Dist\",p)\n",
    "res = sy.integrate(p).subs(x,3/2)-sy.integrate(p).subs(x,1/2)\n",
    "print(\"A chance\",res )\n",
    "\n",
    "for i in range(2):\n",
    "    p=a_filter(p)\n",
    "    display(\"After A cut\",p)\n",
    "    p = convolve(p,b,x)\n",
    "    display(\"After B move\",p)\n",
    "    display(\"integral\",sy.integrate(p))\n",
    "    res = integrate(p).subs(x,-1/2)\n",
    "    print(\"B chance\",res)\n",
    "\n",
    "    p=b_filter(p)\n",
    "    display(\"After B cut\",p)\n",
    "    p = convolve(p,a,x)\n",
    "    display(\"After A move\",p)\n",
    "    display(\"integral\",sy.integrate(p))\n",
    "    res = sy.integrate(p).subs(x,3/2)-sy.integrate(p).subs(x,1/2)\n",
    "    print(\"A chance\",res )"
   ]
  },
  {
   "cell_type": "code",
   "execution_count": null,
   "id": "6376f3db-4afb-4c40-bda6-a24dab9afb62",
   "metadata": {},
   "outputs": [],
   "source": []
  }
 ],
 "metadata": {
  "kernelspec": {
   "display_name": "Python 3",
   "language": "python",
   "name": "python3"
  },
  "language_info": {
   "codemirror_mode": {
    "name": "ipython",
    "version": 3
   },
   "file_extension": ".py",
   "mimetype": "text/x-python",
   "name": "python",
   "nbconvert_exporter": "python",
   "pygments_lexer": "ipython3",
   "version": "3.7.10"
  }
 },
 "nbformat": 4,
 "nbformat_minor": 5
}
