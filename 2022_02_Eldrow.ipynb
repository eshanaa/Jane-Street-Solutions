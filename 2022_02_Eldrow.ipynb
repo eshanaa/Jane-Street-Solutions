{
 "cells": [
  {
   "cell_type": "code",
   "execution_count": 1,
   "metadata": {
    "id": "Oq1xibzMT1Wl"
   },
   "outputs": [],
   "source": [
    "import pandas as pd\n",
    "import numpy as np\n",
    "import time\n",
    "import requests\n",
    "from bs4 import BeautifulSoup\n",
    "from IPython.display import Markdown, display,HTML,Image\n",
    "import string\n",
    "from z3 import *\n",
    "import seaborn as sns\n",
    "import matplotlib.pyplot as plt\n",
    "from matplotlib.colors import ListedColormap"
   ]
  },
  {
   "cell_type": "code",
   "execution_count": 2,
   "metadata": {
    "id": "ICTfvjZUT1Wr"
   },
   "outputs": [
    {
     "data": {
      "text/markdown": [
       "### Puzzle as published \n",
       "https://www.janestreet.com/puzzles/eldrow-index/"
      ],
      "text/plain": [
       "<IPython.core.display.Markdown object>"
      ]
     },
     "metadata": {},
     "output_type": "display_data"
    },
    {
     "data": {
      "text/html": [
       "<div class=\"inner-wrapper\">\n",
       "<p>The daily puzzle game <a href=\"https://www.powerlanguage.co.uk/wordle/\">Wordle</a> has taken the world by storm! Wordlers\n",
       "try to track down the mystery five-letter word in as few guesses as\n",
       "possible each day, with each guess returning the information of\n",
       "whether its letters are:</p>\n",
       "<ul>\n",
       "<li>in the exact position they appear in the mystery word (these letters turn green),</li>\n",
       "<li>in the mystery word but NOT in the position guessed and NOT already\n",
       "accounted for by green or yellow letters, counting duplicity (these letters turn yellow), or</li>\n",
       "<li>not in the mystery word at all (these letters turn gray).</li>\n",
       "</ul>\n",
       "<p>The marking happens in this specific order. First all correctly placed letters are\n",
       "marked green. Then of the remaining letters, from left to right, all letters that exist in the mystery word but haven’t been\n",
       "accounted for by greens or yellows so far are marked yellow. The\n",
       "remaining letters are marked gray. If the mystery word is <strong>ROVER</strong>,\n",
       "the guess of ERROR would be marked</p>\n",
       "<p><span style=\"background-color:yellow\"><strong>ER</strong></span><span style=\"background-color:gray\"><strong>R</strong></span><span style=\"background-color:yellow\"><strong>O</strong></span><span style=\"background-color:green\"><strong>R</strong></span></p>\n",
       "<p>When operating in <em>hard-mode</em>, every subsequent guess has to satisfy all\n",
       "clues left by previous guesses, i.e., each guess has to have a\n",
       "possibility of being the mystery word conditional on the responses of\n",
       "all previous guesses<sup id=\"fnref:1\"><a class=\"footnote\" href=\"#fn:1\">1</a></sup>. For example, if <strong>TIGER</strong> is the mystery\n",
       "word, and a player’s first guess is TRACK, it would be colored</p>\n",
       "<p><span style=\"background-color:green\"><strong>T</strong></span><span style=\"background-color:yellow\"><strong>R</strong></span><span style=\"background-color:gray\"><strong>ACK</strong></span></p>\n",
       "<p>and any future guess couldn’t be</p>\n",
       "<ul>\n",
       "<li>DIRTY, because the mystery word starts with T</li>\n",
       "<li>TROMP, because the mystery word’s second letter isn’t R</li>\n",
       "<li>TARDY, because the mystery word doesn’t contain an A</li>\n",
       "<li>TEPID, because the mystery word must contain an R.</li>\n",
       "</ul>\n",
       "<p>There are many other disqualified future guesses, but TOWER for\n",
       "example would be allowed.</p>\n",
       "<p>We are playing <em>Eldrow</em>, the game of searching for the longest possible\n",
       "chain of hard-mode guesses (we ignore the limit of 6 guesses\n",
       "in Wordle). Choose the target word and sequence of hard-mode guesses\n",
       "from<sup id=\"fnref:2\"><a class=\"footnote\" href=\"#fn:2\">2</a></sup> <a href=\"https://docs.google.com/spreadsheets/d/1mAT2JRrO2wzYaHbX01pkQYTCegtd4ejm4msNbNNZvqQ/edit?usp=sharing\">this list</a> (<strong>SPOILER ALERT</strong>: this is an alphabetized copy of the\n",
       "list of Wordle mystery words, found from inspection of the website’s\n",
       "source code).</p>\n",
       "<p><strong>What is the longest hard-mode guess sequence you can find</strong><sup id=\"fnref:3\"><a class=\"footnote\" href=\"#fn:3\">3</a></sup>? Submit your\n",
       "answer as a comma-separated list of words from the list linked above,\n",
       "in the order guessed, with the final word being the chosen target\n",
       "word. For example, “TRACK,TOWER,TIGER” would be a somewhat\n",
       "underwhelming submission (and “TRACK,TROMP,TIGER” would not\n",
       "qualify). We will keep a leaderboard of the longest qualifying\n",
       "submissions on this page!</p>\n",
       "<div class=\"footnotes\">\n",
       "<ol>\n",
       "<li id=\"fn:1\">\n",
       "<p>In the actual Wordle game, this isn’t precisely true. The exact\n",
       "requirement is that, in every future guess, all green letters\n",
       "discovered so far appear in the position discovered and all yellow\n",
       "letters discovered so far continue to appear in future\n",
       "guesses. So in the example above with <strong>TIGER</strong> as the mystery word, the\n",
       "sequence</p>\n",
       "<p><span style=\"background-color:green\"><strong>T</strong></span><span style=\"background-color:yellow\"><strong>R</strong></span><span style=\"background-color:gray\"><strong>ACK</strong></span></p>\n",
       "<p><span style=\"background-color:green\"><strong>T</strong></span><span style=\"background-color:yellow\"><strong>R</strong></span><span style=\"background-color:gray\"><strong>OMP</strong></span></p>\n",
       "<p>is allowed, even though\n",
       "the player knows that the R can’t be in the second\n",
       "position after the first guess because it would’ve\n",
       "been colored green in the first row. We will use our definition of\n",
       "hard-mode: every guess has to be a potential winner given all the\n",
       "information gathered so far (so by the above logic this sequence\n",
       "would NOT be allowed). <a class=\"reversefootnote\" href=\"#fnref:1\">↩</a></p>\n",
       "</li>\n",
       "<li id=\"fn:2\">\n",
       "<p>If you’d prefer to solve by hand without testing each word\n",
       "against this list, your can still submit but your leaderboard \n",
       "entry may have an asterisk. <a class=\"reversefootnote\" href=\"#fnref:2\">↩</a></p>\n",
       "</li>\n",
       "<li id=\"fn:3\">\n",
       "<p>Note there is a fairly straightforward proof that an (unachievable) upper bound\n",
       "on the length of an Eldrow sequence is 26 words. If your\n",
       "process is generating longer sequences, please recheck the rules. <a class=\"reversefootnote\" href=\"#fnref:3\">↩</a></p>\n",
       "</li>\n",
       "</ol>\n",
       "</div>\n",
       "</div>"
      ],
      "text/plain": [
       "<IPython.core.display.HTML object>"
      ]
     },
     "execution_count": 2,
     "metadata": {},
     "output_type": "execute_result"
    }
   ],
   "source": [
    "url='https://www.janestreet.com/puzzles/eldrow-index/'\n",
    "res = requests.get(url)\n",
    "soup = BeautifulSoup(res.content, 'html.parser')\n",
    "display(Markdown('### Puzzle as published \\n'+url))\n",
    "\n",
    "HTML(str(soup.find('div', {'class' :'inner-wrapper'})))"
   ]
  },
  {
   "cell_type": "code",
   "execution_count": 3,
   "metadata": {
    "colab": {
     "base_uri": "https://localhost:8080/",
     "height": 374
    },
    "id": "zexQ8t1kT1W3",
    "outputId": "7c2aec4e-d2fb-45d8-fc7e-679051faafed"
   },
   "outputs": [
    {
     "data": {
      "text/plain": [
       "2314"
      ]
     },
     "execution_count": 3,
     "metadata": {},
     "output_type": "execute_result"
    }
   ],
   "source": [
    "xl = pd.read_csv('EldrowWordlist.csv')\n",
    "data = xl['words'].to_list()\n",
    "letters = set([i for i in string.ascii_uppercase])\n",
    "len(data)"
   ]
  },
  {
   "cell_type": "code",
   "execution_count": 4,
   "metadata": {
    "colab": {
     "base_uri": "https://localhost:8080/",
     "height": 374
    },
    "id": "zexQ8t1kT1W3",
    "outputId": "7c2aec4e-d2fb-45d8-fc7e-679051faafed"
   },
   "outputs": [
    {
     "data": {
      "image/png": "[encoded data removed]",
      "text/plain": [
       "<Figure size 216x36 with 1 Axes>"
      ]
     },
     "metadata": {
      "needs_background": "light"
     },
     "output_type": "display_data"
    },
    {
     "data": {
      "image/png": "[encoded data removed]",
      "text/plain": [
       "<Figure size 216x36 with 1 Axes>"
      ]
     },
     "metadata": {
      "needs_background": "light"
     },
     "output_type": "display_data"
    }
   ],
   "source": [
    "# Some code to visualise the solutions\n",
    "def scorer(w,t):\n",
    "    word = np.array([i for i in w])\n",
    "    target =np.array([i for i in t])\n",
    "    fixed =  word==target   \n",
    "    soln = np.zeros(5)\n",
    "    for i,l in enumerate(word):\n",
    "        if l == target[i]:\n",
    "            soln[i]=2\n",
    "        elif l in target[fixed==False]:            \n",
    "            soln[i]=1\n",
    "            for n in range(5):\n",
    "                if fixed[n]==False and target[n] == l:\n",
    "                    fixed[n]= True\n",
    "                    break\n",
    "                    \n",
    "    score_cols = ListedColormap(['grey','gold','green'])\n",
    "    fig,ax = plt.subplots(1,1,figsize=(3,0.5))\n",
    "    ax = sns.heatmap([soln],annot=np.array([[i for i in word]]),fmt='',\n",
    "                     cbar=False,cmap=score_cols,linecolor='k',linewidth=2,\n",
    "                     annot_kws={\"fontsize\":14},vmin=0,vmax=2)\n",
    "    ax.axis('off')\n",
    "    plt.show()\n",
    "    return set(word[soln==0])-set(word[soln!=0])\n",
    "        \n",
    "    \n",
    "x = scorer(\"ERROR\",\"ROVER\")\n",
    "x = scorer('TRACK','TIGER')"
   ]
  },
  {
   "cell_type": "code",
   "execution_count": 5,
   "metadata": {
    "colab": {
     "base_uri": "https://localhost:8080/",
     "height": 374
    },
    "id": "zexQ8t1kT1W3",
    "outputId": "7c2aec4e-d2fb-45d8-fc7e-679051faafed"
   },
   "outputs": [],
   "source": [
    "#code to search for chains. Not perfect, still gets confused on double letters.\n",
    "\n",
    "def in_word(l,word,test_word,target):\n",
    "    return Or([If(test_word[i] !=target[i],w==l,False) for i,w in enumerate(word)])\n",
    "\n",
    "def not_in_word(l,word,test_word,target):\n",
    "    return And([If(test_word[i] !=target[i],w!=l,True) for i,w in enumerate(word)])\n",
    "\n",
    "def solve(allowed,N,forced=[]):\n",
    "    start= time.time()\n",
    "    letters ={e:i for i,e in enumerate([i for i in string.ascii_uppercase])}\n",
    "    lett = [i for i in string.ascii_uppercase]        \n",
    "          \n",
    "    encode = [[letters[l] for l in w] for w in allowed]\n",
    "    words = [IntVector(\"x\"+str(i),5) for i in range(N)]\n",
    "    s = Tactic('pqffd').solver()\n",
    "         \n",
    "    s += [And(e>=0,e<=25) for _,e in np.ndenumerate(words)]\n",
    "    s += [Or([And([w[i] == int(l) for i,l in enumerate(e)]) for e in encode]) for w in words]\n",
    "    s += Distinct([Sum([e*(100**i) for i,e in enumerate(w)]) for w in words])\n",
    "    \n",
    "    if len(forced) > 0:\n",
    "        for i,e in enumerate(forced[::-1]):\n",
    "            s += [l == letters[e[n]] for n,l in enumerate(words[N-i-1])]\n",
    "\n",
    "    for l in range(5):\n",
    "        for w in range(N-1):\n",
    "            # equal & not equal\n",
    "            cur_let = words[w][l]\n",
    "            tar_let = words[-1][l]\n",
    "            nxt_let = [words[x][l] for x in range(w+1,N-1)]\n",
    "            \n",
    "            s += Implies(cur_let == tar_let,And([cur_let == x for x in nxt_let]))\n",
    "                         \n",
    "            s += Implies(cur_let != tar_let,And([cur_let != x for x in nxt_let]))\n",
    "            \n",
    "            s += Implies(cur_let != tar_let, Implies(in_word(cur_let,words[-1],words[w],words[-1]),\n",
    "                         in_word(cur_let,words[w+1],words[w],words[-1])))\n",
    "            \n",
    "            s += Implies(cur_let != tar_let,Implies(not_in_word(cur_let,words[-1],words[w],words[-1]),\n",
    "                         And([not_in_word(cur_let,words[x],words[w],words[-1]) for x in range(w+1,N-1)])))\n",
    "        \n",
    "    print(\"Setup after {:.2f} secs\".format(time.time()-start))\n",
    "\n",
    "    if s.check() == sat:\n",
    "        m = s.model()\n",
    "        as_word = lambda x:\"\".join([lett[n] for n in x])\n",
    "        evalu = np.vectorize(lambda x:m.evaluate(x).as_long())\n",
    "        print(\",\".join([as_word(i) for i in evalu(words)]))\n",
    "        print(\"Solved after {:.2f} secs\".format(time.time()-start))\n",
    "        return [as_word(i) for i in evalu(words)]\n",
    "    else:\n",
    "        print(\"Failed\")\n",
    "        return []"
   ]
  },
  {
   "cell_type": "code",
   "execution_count": 6,
   "metadata": {
    "colab": {
     "base_uri": "https://localhost:8080/",
     "height": 374
    },
    "id": "zexQ8t1kT1W3",
    "outputId": "7c2aec4e-d2fb-45d8-fc7e-679051faafed"
   },
   "outputs": [
    {
     "data": {
      "text/plain": [
       "[('IGHT', 9),\n",
       " ('OUND', 8),\n",
       " ('ATCH', 7),\n",
       " ('OWER', 7),\n",
       " ('ASTE', 6),\n",
       " ('ATTY', 6),\n",
       " ('ILLY', 6),\n",
       " ('AUNT', 6),\n",
       " ('ULLY', 5)]"
      ]
     },
     "metadata": {},
     "output_type": "display_data"
    }
   ],
   "source": [
    "# Search space is huge. After a lot of effort found that there were some endings that gave long sequences that narrowed things down a lot\n",
    "# IGHT is the longest list but doesn't give the longest full chain. OWER gives a lot of similar words *O*ER and ***ER so doesn't\n",
    "# use up spare letters as quickly. Had high hopes for \"ILLY\" but didn't give anything better\n",
    "\n",
    "x,y = 1,5\n",
    "test = np.unique([i[x:y] for i in data],return_counts=True)\n",
    "inds = test[1].argsort()\n",
    "display([i for i in zip(test[0][inds][:-10:-1],test[1][inds][:-10:-1])])"
   ]
  },
  {
   "cell_type": "code",
   "execution_count": 7,
   "metadata": {
    "colab": {
     "base_uri": "https://localhost:8080/",
     "height": 374
    },
    "id": "zexQ8t1kT1W3",
    "outputId": "7c2aec4e-d2fb-45d8-fc7e-679051faafed"
   },
   "outputs": [
    {
     "name": "stdout",
     "output_type": "stream",
     "text": [
      "The sequence OWER appears 7 times\n",
      "Words are :['COWER', 'LOWER', 'MOWER', 'POWER', 'ROWER', 'SOWER', 'TOWER']\n",
      "Setup after 18.31 secs\n",
      "QUEUE,INNER,GAZER,ODDER,FOYER,JOKER,BOXER,HOVER,WOOER,COWER,LOWER,MOWER,POWER,ROWER,SOWER,TOWER\n",
      "Solved after 36.35 secs\n"
     ]
    },
    {
     "data": {
      "image/png": "[encoded data removed]",
      "text/plain": [
       "<Figure size 216x36 with 1 Axes>"
      ]
     },
     "metadata": {
      "needs_background": "light"
     },
     "output_type": "display_data"
    },
    {
     "data": {
      "image/png": "[encoded data removed]",
      "text/plain": [
       "<Figure size 216x36 with 1 Axes>"
      ]
     },
     "metadata": {
      "needs_background": "light"
     },
     "output_type": "display_data"
    },
    {
     "data": {
      "image/png": "[encoded data removed]",
      "text/plain": [
       "<Figure size 216x36 with 1 Axes>"
      ]
     },
     "metadata": {
      "needs_background": "light"
     },
     "output_type": "display_data"
    },
    {
     "data": {
      "image/png": "[encoded data removed]",
      "text/plain": [
       "<Figure size 216x36 with 1 Axes>"
      ]
     },
     "metadata": {
      "needs_background": "light"
     },
     "output_type": "display_data"
    },
    {
     "data": {
      "image/png": "[encoded data removed]",
      "text/plain": [
       "<Figure size 216x36 with 1 Axes>"
      ]
     },
     "metadata": {
      "needs_background": "light"
     },
     "output_type": "display_data"
    },
    {
     "data": {
      "image/png": "[encoded data removed]",
      "text/plain": [
       "<Figure size 216x36 with 1 Axes>"
      ]
     },
     "metadata": {
      "needs_background": "light"
     },
     "output_type": "display_data"
    },
    {
     "data": {
      "image/png": "[encoded data removed]",
      "text/plain": [
       "<Figure size 216x36 with 1 Axes>"
      ]
     },
     "metadata": {
      "needs_background": "light"
     },
     "output_type": "display_data"
    },
    {
     "data": {
      "image/png": "[encoded data removed]",
      "text/plain": [
       "<Figure size 216x36 with 1 Axes>"
      ]
     },
     "metadata": {
      "needs_background": "light"
     },
     "output_type": "display_data"
    },
    {
     "data": {
      "image/png": "[encoded data removed]",
      "text/plain": [
       "<Figure size 216x36 with 1 Axes>"
      ]
     },
     "metadata": {
      "needs_background": "light"
     },
     "output_type": "display_data"
    },
    {
     "data": {
      "image/png": "[encoded data removed]",
      "text/plain": [
       "<Figure size 216x36 with 1 Axes>"
      ]
     },
     "metadata": {
      "needs_background": "light"
     },
     "output_type": "display_data"
    },
    {
     "data": {
      "image/png": "[encoded data removed]",
      "text/plain": [
       "<Figure size 216x36 with 1 Axes>"
      ]
     },
     "metadata": {
      "needs_background": "light"
     },
     "output_type": "display_data"
    },
    {
     "data": {
      "image/png": "[encoded data removed]",
      "text/plain": [
       "<Figure size 216x36 with 1 Axes>"
      ]
     },
     "metadata": {
      "needs_background": "light"
     },
     "output_type": "display_data"
    },
    {
     "data": {
      "image/png": "[encoded data removed]",
      "text/plain": [
       "<Figure size 216x36 with 1 Axes>"
      ]
     },
     "metadata": {
      "needs_background": "light"
     },
     "output_type": "display_data"
    },
    {
     "data": {
      "image/png": "[encoded data removed]",
      "text/plain": [
       "<Figure size 216x36 with 1 Axes>"
      ]
     },
     "metadata": {
      "needs_background": "light"
     },
     "output_type": "display_data"
    },
    {
     "data": {
      "image/png": "[encoded data removed]",
      "text/plain": [
       "<Figure size 216x36 with 1 Axes>"
      ]
     },
     "metadata": {
      "needs_background": "light"
     },
     "output_type": "display_data"
    },
    {
     "data": {
      "image/png": "[encoded data removed]",
      "text/plain": [
       "<Figure size 216x36 with 1 Axes>"
      ]
     },
     "metadata": {
      "needs_background": "light"
     },
     "output_type": "display_data"
    }
   ],
   "source": [
    "a,b,x,y = 0,0,1,5\n",
    "ending ='OWER'\n",
    "long = [i for i in data if i[a:b]+i[x:y] ==ending]\n",
    "print(\"The sequence {} appears {} times\".format(ending,len(long)))\n",
    "print(\"Words are :{}\".format(long))\n",
    "x = solve(data,16,forced=long)\n",
    "exclude = []\n",
    "for i in x:\n",
    "    if i in data and np.all([j not in exclude for j in i]):\n",
    "        exclude += list(scorer(i,x[-1]))\n",
    "    else:\n",
    "        print(\"ERROR\")"
   ]
  },
  {
   "cell_type": "code",
   "execution_count": 8,
   "metadata": {
    "colab": {
     "base_uri": "https://localhost:8080/",
     "height": 374
    },
    "id": "zexQ8t1kT1W3",
    "outputId": "7c2aec4e-d2fb-45d8-fc7e-679051faafed"
   },
   "outputs": [
    {
     "data": {
      "text/markdown": [
       "### Solution as published \n",
       "https://www.janestreet.com/puzzles/eldrow-solution/"
      ],
      "text/plain": [
       "<IPython.core.display.Markdown object>"
      ]
     },
     "metadata": {},
     "output_type": "display_data"
    },
    {
     "data": {
      "text/html": [
       "<div class=\"inner-wrapper\">\n",
       "<p>This month’s puzzle drew several different solution methods, some\n",
       "employing code and others using a hand search of the word\n",
       "list. The longest solutions so far discovered are length <strong>16</strong>, the\n",
       "first submission of this length was</p>\n",
       "<p>GAZER,INNER,QUEER,ODDER,BOXER,FOYER,HOVER,JOKER,\n",
       "WOOER,LOWER,MOWER,POWER,ROWER,SOWER,TOWER,COWER</p>\n",
       "<p>submitted by solver Andrew Sultana, who noted that every letter of the\n",
       "alphabet is used!</p>\n",
       "<p>Solver Karl Mahlburg came up with a similar sequence, and also an\n",
       "explanation for why there wasn’t a length 17 Eldrow solution (while\n",
       "admitting it wasn’t a completely rigorous proof). Essentially, each\n",
       "word adds letters to the list of eliminated letters by having grayed\n",
       "out letters, and so we can focus our search on the parts of the\n",
       "sequence where eliminated letters could be reduced. Running code to\n",
       "search these areas failed to find a longer sequence.</p>\n",
       "<p>Nice work solvers! We are certainly happy with our 16-length Eldrow\n",
       "sequences, and curious if some magical 17-length sequence is lurking\n",
       "out there…</p>\n",
       "<p><strong>Congrats to this month’s solvers, ordered by descending length, with\n",
       "ties broken by who submitted earliest.</strong></p>\n",
       "<h4 class=\"omit-as-of\" id=\"correct-submissions-from\"></h4>\n",
       "<p class=\"correct-submissions\" data-directory=\"2022-02-01-eldrow\"></p>\n",
       "</div>"
      ],
      "text/plain": [
       "<IPython.core.display.HTML object>"
      ]
     },
     "execution_count": 8,
     "metadata": {},
     "output_type": "execute_result"
    }
   ],
   "source": [
    "url='https://www.janestreet.com/puzzles/eldrow-solution/'\n",
    "res = requests.get(url)\n",
    "soup = BeautifulSoup(res.content, 'html.parser')\n",
    "display(Markdown('### Solution as published \\n'+url))\n",
    "HTML(str(soup.find('div', {'class' :'inner-wrapper'})))"
   ]
  },
  {
   "cell_type": "code",
   "execution_count": 9,
   "metadata": {},
   "outputs": [
    {
     "data": {
      "text/plain": [
       "[('SORE', 6),\n",
       " ('SARE', 5),\n",
       " ('SACK', 5),\n",
       " ('SOOP', 5),\n",
       " ('SOUT', 5),\n",
       " ('SILL', 4),\n",
       " ('SEAR', 4),\n",
       " ('SELL', 4),\n",
       " ('SUNK', 4)]"
      ]
     },
     "metadata": {},
     "output_type": "display_data"
    }
   ],
   "source": [
    "a,b,x,y = 0,1,2,5\n",
    "test = np.unique([i[a:b]+i[x:y] for i in data],return_counts=True)\n",
    "inds = test[1].argsort()\n",
    "display([i for i in zip(test[0][inds][:-10:-1],test[1][inds][:-10:-1])])"
   ]
  },
  {
   "cell_type": "code",
   "execution_count": 10,
   "metadata": {},
   "outputs": [
    {
     "name": "stdout",
     "output_type": "stream",
     "text": [
      "The sequence OUND appears 8 times\n",
      "Words are :['BOUND', 'FOUND', 'HOUND', 'MOUND', 'POUND', 'ROUND', 'SOUND', 'WOUND']\n",
      "Setup after 14.85 secs\n",
      "LEVEL,AXION,KNOCK,JUNTO,YOUNG,BOUND,FOUND,HOUND,MOUND,POUND,ROUND,SOUND,WOUND\n",
      "Solved after 21.73 secs\n"
     ]
    },
    {
     "data": {
      "image/png": "[encoded data removed]",
      "text/plain": [
       "<Figure size 216x36 with 1 Axes>"
      ]
     },
     "metadata": {
      "needs_background": "light"
     },
     "output_type": "display_data"
    },
    {
     "data": {
      "image/png": "[encoded data removed]",
      "text/plain": [
       "<Figure size 216x36 with 1 Axes>"
      ]
     },
     "metadata": {
      "needs_background": "light"
     },
     "output_type": "display_data"
    },
    {
     "data": {
      "image/png": "[encoded data removed]",
      "text/plain": [
       "<Figure size 216x36 with 1 Axes>"
      ]
     },
     "metadata": {
      "needs_background": "light"
     },
     "output_type": "display_data"
    },
    {
     "data": {
      "image/png": "[encoded data removed]",
      "text/plain": [
       "<Figure size 216x36 with 1 Axes>"
      ]
     },
     "metadata": {
      "needs_background": "light"
     },
     "output_type": "display_data"
    },
    {
     "data": {
      "image/png": "[encoded data removed]",
      "text/plain": [
       "<Figure size 216x36 with 1 Axes>"
      ]
     },
     "metadata": {
      "needs_background": "light"
     },
     "output_type": "display_data"
    },
    {
     "data": {
      "image/png": "[encoded data removed]",
      "text/plain": [
       "<Figure size 216x36 with 1 Axes>"
      ]
     },
     "metadata": {
      "needs_background": "light"
     },
     "output_type": "display_data"
    },
    {
     "data": {
      "image/png": "[encoded data removed]",
      "text/plain": [
       "<Figure size 216x36 with 1 Axes>"
      ]
     },
     "metadata": {
      "needs_background": "light"
     },
     "output_type": "display_data"
    },
    {
     "data": {
      "image/png": "[encoded data removed]",
      "text/plain": [
       "<Figure size 216x36 with 1 Axes>"
      ]
     },
     "metadata": {
      "needs_background": "light"
     },
     "output_type": "display_data"
    },
    {
     "data": {
      "image/png": "[encoded data removed]",
      "text/plain": [
       "<Figure size 216x36 with 1 Axes>"
      ]
     },
     "metadata": {
      "needs_background": "light"
     },
     "output_type": "display_data"
    },
    {
     "data": {
      "image/png": "[encoded data removed]",
      "text/plain": [
       "<Figure size 216x36 with 1 Axes>"
      ]
     },
     "metadata": {
      "needs_background": "light"
     },
     "output_type": "display_data"
    },
    {
     "data": {
      "image/png": "[encoded data removed]",
      "text/plain": [
       "<Figure size 216x36 with 1 Axes>"
      ]
     },
     "metadata": {
      "needs_background": "light"
     },
     "output_type": "display_data"
    },
    {
     "data": {
      "image/png": "[encoded data removed]",
      "text/plain": [
       "<Figure size 216x36 with 1 Axes>"
      ]
     },
     "metadata": {
      "needs_background": "light"
     },
     "output_type": "display_data"
    },
    {
     "data": {
      "image/png": "[encoded data removed]",
      "text/plain": [
       "<Figure size 216x36 with 1 Axes>"
      ]
     },
     "metadata": {
      "needs_background": "light"
     },
     "output_type": "display_data"
    }
   ],
   "source": [
    "a,b,x,y = 0,0,1,5\n",
    "ending ='OUND'\n",
    "long = [i for i in data if i[a:b]+i[x:y] ==ending]\n",
    "print(\"The sequence {} appears {} times\".format(ending,len(long)))\n",
    "print(\"Words are :{}\".format(long))\n",
    "\n",
    "x = solve(data,13,forced=long)\n",
    "exclude = []\n",
    "for i in x:\n",
    "    if i in data and np.all([j not in exclude for j in i]):\n",
    "        exclude += list(scorer(i,x[-1]))\n",
    "    else:\n",
    "        print(\"ERROR\")"
   ]
  },
  {
   "cell_type": "code",
   "execution_count": 11,
   "metadata": {},
   "outputs": [
    {
     "name": "stdout",
     "output_type": "stream",
     "text": [
      "The sequence IGHT appears 9 times\n",
      "Words are :['EIGHT', 'FIGHT', 'LIGHT', 'MIGHT', 'NIGHT', 'RIGHT', 'SIGHT', 'TIGHT', 'WIGHT']\n",
      "Setup after 14.81 secs\n",
      "PUPPY,OVOID,KHAKI,HITCH,EIGHT,FIGHT,LIGHT,MIGHT,NIGHT,RIGHT,SIGHT,TIGHT,WIGHT\n",
      "Solved after 15.80 secs\n"
     ]
    },
    {
     "data": {
      "image/png": "[encoded data removed]",
      "text/plain": [
       "<Figure size 216x36 with 1 Axes>"
      ]
     },
     "metadata": {
      "needs_background": "light"
     },
     "output_type": "display_data"
    },
    {
     "data": {
      "image/png": "[encoded data removed]",
      "text/plain": [
       "<Figure size 216x36 with 1 Axes>"
      ]
     },
     "metadata": {
      "needs_background": "light"
     },
     "output_type": "display_data"
    },
    {
     "data": {
      "image/png": "[encoded data removed]",
      "text/plain": [
       "<Figure size 216x36 with 1 Axes>"
      ]
     },
     "metadata": {
      "needs_background": "light"
     },
     "output_type": "display_data"
    },
    {
     "data": {
      "image/png": "[encoded data removed]",
      "text/plain": [
       "<Figure size 216x36 with 1 Axes>"
      ]
     },
     "metadata": {
      "needs_background": "light"
     },
     "output_type": "display_data"
    },
    {
     "data": {
      "image/png": "[encoded data removed]",
      "text/plain": [
       "<Figure size 216x36 with 1 Axes>"
      ]
     },
     "metadata": {
      "needs_background": "light"
     },
     "output_type": "display_data"
    },
    {
     "data": {
      "image/png": "[encoded data removed]",
      "text/plain": [
       "<Figure size 216x36 with 1 Axes>"
      ]
     },
     "metadata": {
      "needs_background": "light"
     },
     "output_type": "display_data"
    },
    {
     "data": {
      "image/png": "[encoded data removed]",
      "text/plain": [
       "<Figure size 216x36 with 1 Axes>"
      ]
     },
     "metadata": {
      "needs_background": "light"
     },
     "output_type": "display_data"
    },
    {
     "data": {
      "image/png": "[encoded data removed]",
      "text/plain": [
       "<Figure size 216x36 with 1 Axes>"
      ]
     },
     "metadata": {
      "needs_background": "light"
     },
     "output_type": "display_data"
    },
    {
     "data": {
      "image/png": "[encoded data removed]",
      "text/plain": [
       "<Figure size 216x36 with 1 Axes>"
      ]
     },
     "metadata": {
      "needs_background": "light"
     },
     "output_type": "display_data"
    },
    {
     "data": {
      "image/png": "[encoded data removed]",
      "text/plain": [
       "<Figure size 216x36 with 1 Axes>"
      ]
     },
     "metadata": {
      "needs_background": "light"
     },
     "output_type": "display_data"
    },
    {
     "data": {
      "image/png": "[encoded data removed]",
      "text/plain": [
       "<Figure size 216x36 with 1 Axes>"
      ]
     },
     "metadata": {
      "needs_background": "light"
     },
     "output_type": "display_data"
    },
    {
     "data": {
      "image/png": "[encoded data removed]",
      "text/plain": [
       "<Figure size 216x36 with 1 Axes>"
      ]
     },
     "metadata": {
      "needs_background": "light"
     },
     "output_type": "display_data"
    },
    {
     "data": {
      "image/png": "[encoded data removed]",
      "text/plain": [
       "<Figure size 216x36 with 1 Axes>"
      ]
     },
     "metadata": {
      "needs_background": "light"
     },
     "output_type": "display_data"
    }
   ],
   "source": [
    "a,b,x,y = 0,0,1,5\n",
    "ending ='IGHT'\n",
    "long = [i for i in data if i[a:b]+i[x:y] ==ending]\n",
    "print(\"The sequence {} appears {} times\".format(ending,len(long)))\n",
    "print(\"Words are :{}\".format(long))\n",
    "\n",
    "x = solve(data,13,forced=long)\n",
    "exclude = []\n",
    "for i in x:\n",
    "    if i in data and np.all([j not in exclude for j in i]):\n",
    "        exclude += list(scorer(i,x[-1]))\n",
    "    else:\n",
    "        print(\"ERROR\")"
   ]
  },
  {
   "cell_type": "code",
   "execution_count": null,
   "metadata": {},
   "outputs": [],
   "source": []
  }
 ],
 "metadata": {
  "colab": {
   "include_colab_link": true,
   "name": "JaneSt-Feb18.ipynb",
   "provenance": []
  },
  "kernelspec": {
   "display_name": "Python 3 (ipykernel)",
   "language": "python",
   "name": "python3"
  },
  "language_info": {
   "codemirror_mode": {
    "name": "ipython",
    "version": 3
   },
   "file_extension": ".py",
   "mimetype": "text/x-python",
   "name": "python",
   "nbconvert_exporter": "python",
   "pygments_lexer": "ipython3",
   "version": "3.7.12"
  }
 },
 "nbformat": 4,
 "nbformat_minor": 4
}
