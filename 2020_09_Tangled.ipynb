{
 "cells": [
  {
   "cell_type": "code",
   "execution_count": 23,
   "metadata": {},
   "outputs": [],
   "source": [
    "## Code to solve Jane Street's September puzzle https://www.janestreet.com/puzzles/tangled/\n",
    "## It's based on John Conway's work on rational tangles - https://en.wikipedia.org/wiki/Tangle_(mathematics) hence \"Yawn-ock\"\n",
    "\n",
    "import requests\n",
    "from bs4 import BeautifulSoup\n",
    "from math import gcd\n",
    "import pandas as pd\n",
    "\n",
    "from IPython.display import Markdown, display\n",
    "def printmd(string):\n",
    "    display(Markdown(string))"
   ]
  },
  {
   "cell_type": "code",
   "execution_count": 24,
   "metadata": {},
   "outputs": [
    {
     "name": "stdout",
     "output_type": "stream",
     "text": [
      "Problem\n",
      "~~~~~~~\n",
      "Tangled! While on vacation in Terniquaternaria, Decimus got to experience the country’s traditional folkloric dance, which they call the “ Yawn-ock “. The people of Terniquaternaria pride themselves on being rational , so they dance the Yawn-ock by the following strict rules. Four dancers hold one end of two long pieces of rope and never let go. They initially take the following positions:\n",
      "\n",
      "During the entire dance, only two types of move are allowed: The entire group rotates 90 degrees counterclockwise (ie the dancer in A moves to B, dancer in B moves to C, etc). This step is called a “Rotate” (R). Dancers in C and D swap places, with D holding the rope up while C is passing under. This step is called a “Swap” (S). From the initial configuration, a dance master calls out successive R/S steps randomly, that the dancers diligently execute accompanied by music. After this, there is usually quite a tangled mess of rope in the middle! A participant from the crowd can then step forward and attempt to untangle the ropes by shouting a sequence of the same two moves as above, that the dancers execute. If this person succeeds in fully untangling the ropes, he/she gets crowned King/Queen for the day!\n",
      "\n"
     ]
    },
    {
     "data": {
      "text/markdown": [
       "**The steps from the puzzle are:** `SRSRRSSRSRSSRSSRRSSRSSSSSRSSRSSRSRSSRSSRSSSSSSSSRSSRSSSSSRSSRSSRRSSRSSSSSRSSRSSRSSSSSSSSSSSSSSSSSRSSRSSRS`"
      ],
      "text/plain": [
       "<IPython.core.display.Markdown object>"
      ]
     },
     "metadata": {},
     "output_type": "display_data"
    },
    {
     "data": {
      "text/markdown": [
       "**Which is 105 steps**"
      ],
      "text/plain": [
       "<IPython.core.display.Markdown object>"
      ]
     },
     "metadata": {},
     "output_type": "display_data"
    },
    {
     "data": {
      "text/markdown": [
       "## The moves are :"
      ],
      "text/plain": [
       "<IPython.core.display.Markdown object>"
      ]
     },
     "metadata": {},
     "output_type": "display_data"
    },
    {
     "data": {
      "text/markdown": [
       "The entire group rotates 90 degrees counterclockwise (ie the dancer in A moves to B, dancer in B moves to C, etc). This step is called a “Rotate” (R).<br>Dancers in C and D swap places, with D holding the rope up while C is passing under. This step is called a “Swap” (S)."
      ],
      "text/plain": [
       "<IPython.core.display.Markdown object>"
      ]
     },
     "metadata": {},
     "output_type": "display_data"
    }
   ],
   "source": [
    "# pull in the steps from the webpage\n",
    "url='https://www.janestreet.com/puzzles/tangled/'\n",
    "res = requests.get(url)\n",
    "soup = BeautifulSoup(res.content, 'html.parser')\n",
    "x =[text for text in soup.body.stripped_strings]\n",
    "\n",
    "#from the enumerate below the lines needed are 23-25. Steps are defined in lines 18 & 19\n",
    "print(\"Problem\")\n",
    "print(\"~~~~~~~\")\n",
    "print(\" \".join(x[6:12]))\n",
    "print(\"\")\n",
    "print(\" \".join(x[17:22]))\n",
    "print(\"\")\n",
    "steps =''.join(x[23:26])\n",
    "printmd('**The steps from the puzzle are:** `{}`'.format(steps))\n",
    "printmd('**Which is {} steps**'.format(len(steps)))\n",
    "printmd('## The moves are :')\n",
    "printmd(x[18]+\"<br>\"+x[19])\n",
    "\n"
   ]
  },
  {
   "cell_type": "code",
   "execution_count": 31,
   "metadata": {},
   "outputs": [],
   "source": [
    "# define a tangle and it's fraction.\n",
    "\n",
    "class Tangle():\n",
    "\n",
    "    def __init__(self,numerator = 0, denominator = 1):\n",
    "        self.numerator = numerator\n",
    "        self.denominator = denominator\n",
    "   \n",
    "    # S moves x/y to (x+y)/y\n",
    "    # R moves x/y to -y/x\n",
    "    # Remember to andle 1/0 ... \n",
    "    \n",
    "    def tangle(self, steps):\n",
    "\n",
    "        for step in steps:\n",
    "            if step =='S':\n",
    "                self.numerator += self.denominator\n",
    "            if step =='R':\n",
    "                if self.numerator ==0:\n",
    "                    self.numerator = 1\n",
    "                    self.denominator = 0\n",
    "                else:\n",
    "                    denominator_temp = self.denominator\n",
    "                    if self.numerator > 0:\n",
    "                        self.denominator = self.numerator\n",
    "                        self.numerator = -denominator_temp\n",
    "                    else:\n",
    "                        self.denominator = -self.numerator\n",
    "                        self.numerator = denominator_temp\n",
    "            #if self.denominator == 0:\n",
    "            #    print('{} -> Numerator: {:,} Denominator: {:,} = {}'.format(step,self.numerator,self.denominator,\"Inf\"))            \n",
    "            #else:\n",
    "            #    print('{} -> Numerator: {:,} Denominator: {:,} = {:.3f} '.format(step, self.numerator,self.denominator,self.numerator/self.denominator))    \n",
    "    \n",
    "        return(self.numerator,self.denominator)    \n",
    "\n",
    "\n",
    "    # strategy for untangling demonstrated by Tom Davis in this video https://www.youtube.com/watch?v=iE38AXV_dHc\n",
    "    def untangle(self):\n",
    "        steps=\"\"\n",
    "        while self.numerator != 0:\n",
    "            if self.numerator > 0:\n",
    "                steps +='R'\n",
    "                self.numerator,self.denominator = self.tangle('R')\n",
    "            else:\n",
    "                steps +='S'\n",
    "                self.numerator,self.denominator = self.tangle('S')\n",
    "        return steps\n"
   ]
  },
  {
   "cell_type": "code",
   "execution_count": 32,
   "metadata": {},
   "outputs": [
    {
     "name": "stdout",
     "output_type": "stream",
     "text": [
      "Step through the original tangle\n",
      "- S moves x/y to (x+y)/y\n",
      "- R moves x/y to -y/x\n",
      "================================\n"
     ]
    },
    {
     "data": {
      "text/markdown": [
       "**Final state - Numerator: 1,011,793 Denominator: 3,101,484**"
      ],
      "text/plain": [
       "<IPython.core.display.Markdown object>"
      ]
     },
     "metadata": {},
     "output_type": "display_data"
    },
    {
     "name": "stdout",
     "output_type": "stream",
     "text": [
      "Now to untangle\n",
      "===============\n"
     ]
    },
    {
     "data": {
      "text/markdown": [
       "**Takes 114 steps to untangle :RSSSSRSSRSSRSSRSSRSSRSSRSSRSSRSSRSSRSSRSSRSSRSSRSSSSSRSSRSSRSSSRSSRSSSSRSSRSSRSSSSRSSRSSRSSRSSRSSRSSSRSSSRSSRSSRSS**"
      ],
      "text/plain": [
       "<IPython.core.display.Markdown object>"
      ]
     },
     "metadata": {},
     "output_type": "display_data"
    }
   ],
   "source": [
    "# use the code above to tangle and untangle\n",
    "print('Step through the original tangle')\n",
    "print('- S moves x/y to (x+y)/y')\n",
    "print('- R moves x/y to -y/x')\n",
    "print('================================')\n",
    "\n",
    "puzzle_tangle = Tangle(0,1)\n",
    "x,y = puzzle_tangle.tangle(steps)\n",
    "\n",
    "printmd('**Final state - Numerator: {:,} Denominator: {:,}**'.format(x,y))\n",
    "\n",
    "print('Now to untangle')\n",
    "print('===============')\n",
    "untangle_steps = puzzle_tangle.untangle()\n",
    "printmd('**Takes {} steps to untangle :{}**'.format(len(untangle_steps),untangle_steps))"
   ]
  },
  {
   "cell_type": "code",
   "execution_count": 33,
   "metadata": {},
   "outputs": [
    {
     "name": "stdout",
     "output_type": "stream",
     "text": [
      "Solution\n",
      "~~~~~~~~\n",
      "September 2020 solution The fastest sequence of untangling the ropes that was found was this 114-command beauty:\n",
      "\n",
      "RSSSSRSSRSSRSSRSSRSSRSSRSSRSSRSSRSSRSSRSSRSSRSSRSSSSSRSSRSSRSSSRSSRSSSSRSSRSSRSSSSRSSRSSRSSRSSRSSRSSSRSSSRSSRSSRSS\n",
      "\n",
      "It could be discovered by using the theory of rational tangles , which maps ropes tangled by these commands onto rational numbers using continued fractions.  The late John H. Conway of puzzle math fame worked on this, hence our silly name for the dance “Yawn-ock” (“Conway” is hidden in there backwards). Here are the solvers of this tangly challenge, with the first group having the shortest solutions and the second group being ordered chronologically.\n"
     ]
    }
   ],
   "source": [
    "url='https://www.janestreet.com/puzzles/solutions/september-2020-solution//'\n",
    "res = requests.get(url)\n",
    "soup = BeautifulSoup(res.content, 'html.parser')\n",
    "soup_p = soup.body\n",
    "x =[text for text in soup_p.stripped_strings]\n",
    "print(\"Solution\")\n",
    "print(\"~~~~~~~~\")\n",
    "print(\" \".join(x[6:8]))\n",
    "print(\"\")\n",
    "print(\"\".join(x[8:14]))\n",
    "print(\"\")\n",
    "print(\" \".join(x[14:18]))"
   ]
  },
  {
   "cell_type": "code",
   "execution_count": 34,
   "metadata": {},
   "outputs": [
    {
     "name": "stdout",
     "output_type": "stream",
     "text": [
      "0 Jane Street\n",
      "1 Puzzles\n",
      "2 Intro\n",
      "3 Current Puzzle\n",
      "4 Archive\n",
      "5 Puzzle Archive\n",
      "6 September 2020 solution\n",
      "7 The fastest sequence of untangling the ropes that was found was this 114-command beauty:\n",
      "8 RSSSSRSSRSSRSSRSSRSSRSSRSSRSSR\n",
      "9 SSRSSRSS\n",
      "10 RSSRSSRSSRSSSSSRSSRSSR\n",
      "11 SSSRSSRSSSSRSSRS\n",
      "12 SRSSSSRSSRSSRS\n",
      "13 SRSSRSSRSSSRSSSRSSRSSRSS\n",
      "14 It could be discovered by using the theory of\n",
      "15 rational tangles\n",
      "16 , which maps ropes tangled by these commands onto rational numbers using continued fractions.  The late John H. Conway of puzzle math fame worked on this, hence our silly name for the dance “Yawn-ock” (“Conway” is hidden in there backwards).\n",
      "17 Here are the solvers of this tangly challenge, with the first group having the shortest solutions and the second group being ordered chronologically.\n",
      "18 Heidi Stockton\n",
      "19 Cubist\n",
      "20 Neil Thistlethwaite\n",
      "21 Will Liao\n",
      "22 Keith Schneider\n",
      "23 Sean Egan\n",
      "24 A Dodecahedron\n",
      "25 Mark Taylor\n",
      "26 Aaditya Raghavan\n",
      "27 Alex Kalbach\n",
      "28 Sebastian Salazar\n",
      "29 Lyudmil Kouzmanov\n",
      "30 Josh Marza\n",
      "31 Will Christerson\n",
      "32 Anirudh Raghavan\n",
      "33 Rahul Saxena\n",
      "34 dbartok\n",
      "35 Jet Kwang\n",
      "36 Dewei Chuan\n",
      "37 Erik-Cristian Seulean\n",
      "38 FK\n",
      "39 Sanandan Sandman\n",
      "40 Senthil Rajasekaran\n",
      "41 Simon Zeng\n",
      "42 Ryan Kavanagh\n",
      "43 Walter Sebastian Gisler\n",
      "44 Ben Reiniger\n",
      "45 alang\n",
      "46 Ivin Lee\n",
      "47 Alexey Levin\n",
      "48 Sergey Tychinin\n",
      "49 Leif Metcalf\n",
      "50 Jonah Goldstein\n",
      "51 Andrew Argatkiny\n",
      "52 Gareth Owen\n",
      "53 Serbest\n",
      "54 Mike W\n",
      "55 Jacob Gross\n",
      "56 Exchange Traded Fun!\n",
      "57 ThomasWJ\n",
      "58 Akhil Goel\n",
      "59 Dhruv Bhattaram\n",
      "60 Jet Kwang\n",
      "61 Kilian B.\n",
      "62 Vaskor Basak\n",
      "63 Guillermo Wildschut\n",
      "64 Francois Crucifix\n",
      "65 Jack McHaffie\n",
      "66 Advitiya Goyal\n",
      "67 Michael Giba\n",
      "68 Heledd Roberts\n",
      "69 Karl Mahlburg\n",
      "70 Fabiano Menezes\n",
      "71 Dimas Ramos\n",
      "72 Nakamoto\n",
      "73 Liam Trodden\n",
      "74 Serbest\n",
      "75 Glauber Guarinello\n",
      "76 Axel Li\n",
      "77 weitendorf\n",
      "78 Stanley Chow\n",
      "79 Holland Emery\n",
      "80 Chinmayi Gajula I\n",
      "81 Nadia Magnuson and Ben Visness\n",
      "82 Tomer Tzadok\n",
      "83 Garrett Andersen\n",
      "84 cssachse\n",
      "85 © Copyright 2015-2021 Jane Street Group, LLC. All rights reserved. Services are provided in the U.S. by Jane Street Capital, LLC and Jane Street Execution Services, LLC, each of which is a SEC-registered broker dealer and member of FINRA (www.finra.org). Services are provided in Europe by Jane Street Financial Limited, a registered dealer authorized and regulated by the U.K. Financial Conduct Authority, and in Hong Kong by Jane Street Hong Kong Limited, a regulated entity under the Hong Kong Securities and Futures Commission (CE No. BAL548). Each of these entities is a wholly owned subsidiary of Jane Street Group, LLC. This material is provided for informational purposes only and does not constitute an offer or solicitation for the purchase or sale of any security or other financial instrument.\n"
     ]
    }
   ],
   "source": [
    "# just working out where the steps are in the html code for the initial puzzle\n",
    "for i,string in enumerate(soup.body.stripped_strings):\n",
    "    print(i,string)"
   ]
  },
  {
   "cell_type": "code",
   "execution_count": null,
   "metadata": {},
   "outputs": [],
   "source": []
  },
  {
   "cell_type": "code",
   "execution_count": null,
   "metadata": {},
   "outputs": [],
   "source": []
  }
 ],
 "metadata": {
  "kernelspec": {
   "display_name": "Python 3",
   "language": "python",
   "name": "python3"
  },
  "language_info": {
   "codemirror_mode": {
    "name": "ipython",
    "version": 3
   },
   "file_extension": ".py",
   "mimetype": "text/x-python",
   "name": "python",
   "nbconvert_exporter": "python",
   "pygments_lexer": "ipython3",
   "version": "3.7.7"
  }
 },
 "nbformat": 4,
 "nbformat_minor": 4
}
