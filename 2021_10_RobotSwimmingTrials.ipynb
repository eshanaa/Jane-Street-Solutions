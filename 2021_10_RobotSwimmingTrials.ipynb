{
 "cells": [
  {
   "cell_type": "code",
   "execution_count": 1,
   "metadata": {
    "id": "Oq1xibzMT1Wl"
   },
   "outputs": [],
   "source": [
    "import time\n",
    "import requests\n",
    "from bs4 import BeautifulSoup\n",
    "from IPython.display import Markdown, display,HTML\n",
    "from random import randrange\n",
    "from scipy.special import comb\n",
    "import numpy as np\n",
    "import numba as nb"
   ]
  },
  {
   "cell_type": "code",
   "execution_count": 2,
   "metadata": {
    "id": "ICTfvjZUT1Wr"
   },
   "outputs": [
    {
     "data": {
      "text/html": [
       "<div class=\"inner-wrapper\">\n",
       "<p>As we have <a href=\"https://www.janestreet.com/puzzles/robot-weightlifting-index/\">twice</a> <a href=\"https://www.janestreet.com/puzzles/robot-tug-of-war-index/\">before</a>, we find ourselves engrossed in a robot sports competition. In the Robot Swimming Trials, 3<em>N</em> identical robots compete for <em>N</em> equivalent spots in the finals by swimming <em>N</em> races. Each robot precommits to spending a certain amount of its fuel in each race. After all the races are run, the spots in the finals are given to the winners of the races, moving from the fastest winner to the slowest. (Once a robot wins a race, it is ineligible to win another race.) A robot’s speed is strictly increasing in the amount of fuel it spends, and ties are broken by randomly choosing the winner among the robots that have spent the same amount of fuel.</p>\n",
       "<p>Mathematically speaking, the 3<em>N</em> robots each submit a strategy, which is an <em>N</em>-tuple of nonnegative real number “bids” summing to 1, representing the fuel burned in each of the <em>N</em> races. The winners of the races are then determined from the highest bid (across all races and all robots) on down, with ties broken randomly. Once a robot wins a race their other bids are deleted, so we are guaranteed to get <em>N</em> distinct qualifiers for the finals.</p>\n",
       "<p>For example, suppose <em>N</em>=3 and the 3<em>N</em>=9 robots submit their strategies as</p>\n",
       "<table>\n",
       "<thead>\n",
       "<tr>\n",
       "<th>Robot</th>\n",
       "<th>Race 1  </th>\n",
       "<th>Race 2  </th>\n",
       "<th>Race 3  </th>\n",
       "</tr>\n",
       "</thead>\n",
       "<tbody>\n",
       "<tr>\n",
       "<td>Automatonya  </td>\n",
       "<td>0.6</td>\n",
       "<td>0.1</td>\n",
       "<td>0.3</td>\n",
       "</tr>\n",
       "<tr>\n",
       "<td>Botty</td>\n",
       "<td>0.6</td>\n",
       "<td>0.3</td>\n",
       "<td>0.1</td>\n",
       "</tr>\n",
       "<tr>\n",
       "<td>Chroma</td>\n",
       "<td>0</td>\n",
       "<td>1</td>\n",
       "<td>0</td>\n",
       "</tr>\n",
       "<tr>\n",
       "<td>Data</td>\n",
       "<td>0.3</td>\n",
       "<td>0.5</td>\n",
       "<td>0.2</td>\n",
       "</tr>\n",
       "<tr>\n",
       "<td>Electro</td>\n",
       "<td>0.2</td>\n",
       "<td>0.8</td>\n",
       "<td>0</td>\n",
       "</tr>\n",
       "<tr>\n",
       "<td>Fernandroid</td>\n",
       "<td>0.4</td>\n",
       "<td>0.5</td>\n",
       "<td>0.1</td>\n",
       "</tr>\n",
       "<tr>\n",
       "<td>Gregulator</td>\n",
       "<td>0.5</td>\n",
       "<td>0.5</td>\n",
       "<td>0</td>\n",
       "</tr>\n",
       "<tr>\n",
       "<td>Hannanobot</td>\n",
       "<td>0</td>\n",
       "<td>0.9</td>\n",
       "<td>0.1</td>\n",
       "</tr>\n",
       "<tr>\n",
       "<td>IO</td>\n",
       "<td>0.2</td>\n",
       "<td>0.7</td>\n",
       "<td>0.1</td>\n",
       "</tr>\n",
       "</tbody>\n",
       "</table>\n",
       "<p>The second race gets resolved first because Chroma’s bid of 1 is the highest overall, and Chroma is declared the winner of that time trial. Next, the first race is resolved because 0.6 is the highest remaining bid (we ignore the 0.9, 0.8, and 0.7 in the second race because it already has a winner). We flip a fair coin to determine who is the winner between Automatonya and Botty; say that Automatonya gets lucky and is declared the winner. Then the third race is decided, and Data is declared the winner, because 0.2 is the highest bid among robots that have not yet won (Automatonya’s 0.3 is ignored).</p>\n",
       "<p>Over the storied history of the RST, the metagame settled into what was widely believed to be the Nash equilibrium: each robot uniformly randomly selects a race and devotes all of their fuel to it. Let’s call this the <strong>discrete strategy</strong>. However, rumors are circulating that this conventional wisdom is not entirely accurate: for a large enough <em>N</em>, the discrete strategy is not the Nash equilibrium. You’ve been tasked to find two pieces of information:</p>\n",
       "<p>What is the smallest <em>N</em> for which the trial does <strong>not</strong> have the discrete strategy as the Nash equilibrium?</p>\n",
       "<p>For this <em>N</em>, if the other 3<em>N</em>-1 robots naively play the discrete\n",
       "strategy and your robot plays optimally (exploiting this knowledge of\n",
       "your opponents’ strategies), with what probability <em>p</em> will you make the finals (rounded to 6 significant digits)?</p>\n",
       "<p>Please submit your answer in the form “<em>N</em>, <em>p</em>”.</p>\n",
       "</div>"
      ],
      "text/plain": [
       "<IPython.core.display.HTML object>"
      ]
     },
     "execution_count": 2,
     "metadata": {},
     "output_type": "execute_result"
    }
   ],
   "source": [
    "url='https://www.janestreet.com/puzzles/robot-swimming-trials-index/'\n",
    "res = requests.get(url)\n",
    "soup = BeautifulSoup(res.content, 'html.parser')\n",
    "HTML(str(soup.find('div', {'class' :'inner-wrapper'})))"
   ]
  },
  {
   "cell_type": "code",
   "execution_count": 3,
   "metadata": {
    "id": "844RhDFpT1Wu"
   },
   "outputs": [],
   "source": [
    "# A some point there is a larger than 1/3 probability of there being at least one race where every other robot choses zero. \n",
    "# So if the last robot spreads evenly over the other races he will win any race where there are no other robots who choose 1.\n",
    "# The probability of throwing N balls into k bins and there being a ball in every bin is as per the link below.\n",
    "# https://math.stackexchange.com/questions/174674/if-n-balls-are-thrown-into-k-bins-what-is-the-probability-that-every-bin-gets-a"
   ]
  },
  {
   "cell_type": "markdown",
   "metadata": {
    "id": "844RhDFpT1Wu"
   },
   "source": [
    "$P(X=0)=\\sum_{j=0}^k (-1)^j {k\\choose j}\\left(1-{j\\over k}\\right)^n$"
   ]
  },
  {
   "cell_type": "code",
   "execution_count": 4,
   "metadata": {
    "id": "844RhDFpT1Wu"
   },
   "outputs": [
    {
     "name": "stdout",
     "output_type": "stream",
     "text": [
      "For 8 rounds the chance is 0.334578 \n"
     ]
    }
   ],
   "source": [
    "def calc(k):\n",
    "    n = 3* k - 1\n",
    "    return 1-sum([pow(-1,h)*comb(k,h)*(1-h/k)**n for h in range(k)])\n",
    "\n",
    "flag = 0\n",
    "i=1\n",
    "while flag==0:\n",
    "    i+=1\n",
    "    n=i*3    \n",
    "    if calc(i) > 1/3:\n",
    "        print(\"For {} rounds the chance is {:.6f} \".format(i,calc(i)))\n",
    "        flag=1"
   ]
  },
  {
   "cell_type": "code",
   "execution_count": 5,
   "metadata": {},
   "outputs": [
    {
     "data": {
      "text/html": [
       "<div class=\"inner-wrapper\">\n",
       "<p>We are given that our opponents are all playing the discrete strategy,\n",
       "which means they will all be independently choosing a race uniformly\n",
       "randomly and devoting\n",
       "all of their fuel to it. Since we are searching for the smallest <em>N</em>\n",
       "so that the discrete strategy is not optimal, we will be playing\n",
       "something other than this strategy. This means we won’t be assigning\n",
       "all of our fuel to any one race, but since all of our opponents are\n",
       "“bidding” 1 or 0 on every race, the best non-discrete strategies will\n",
       "involve bidding a nonzero amount on every race, which will beat all of\n",
       "the 0 bids (but lose to all of the 1 bids). So without loss of\n",
       "generality we can assume the strategy of bidding 1/<em>N</em> on every race,\n",
       "we can call this the <em>uniform</em> strategy.</p>\n",
       "<p>Now we need to compute the smallest <em>N</em> for which this beats out the\n",
       "discrete strategy. The uniform strategy wins a race exactly when none\n",
       "of the 3<em>N</em>-1 other discrete-strategy-playing robots select that race\n",
       "for their fuel. It’s straightforward to compute this probability for a\n",
       "single race, (1-1/<em>N</em>)^(3<em>N</em>-1). But the assignment of discrete\n",
       "strategies is <strong>not independent</strong> across the <em>N</em> races! Assuming they were\n",
       "would give an incorrect answer of <em>N</em>=9 and <em>p</em>=0.350245…</p>\n",
       "<p>Also, these events of winning a race with the uniform strategy are\n",
       "<strong>not disjoint</strong> across the <em>N</em> races! Assuming they were would give\n",
       "an incorrect answer of <em>N</em>=8 and <em>p</em>=0.370916…</p>\n",
       "<p>Instead, a nice recursion could be found to count up the number of\n",
       "arrangements of the 3<em>N</em>-1 other players that left at least one race\n",
       "undefended. For example, let P(<em>R</em>,<em>m</em>,<em>n</em>) equal the probability that, if we\n",
       "need to assign <em>R</em> robots to (<em>m</em>+<em>n</em>) total races, <em>m</em> of which already have\n",
       "a robot assigned and <em>n</em> of which don’t, we will eventually assign at\n",
       "least one robot to all (<em>m</em>+<em>n</em>) races. Then assigning the next robot to a\n",
       "race uniformly randomly implies the recursion:</p>\n",
       "<p>P(<em>R</em>,<em>m</em>,<em>n</em>) = (<em>m</em> * P(<em>R</em>-1,<em>m</em>,<em>n</em>) + <em>n</em> * P(<em>R</em>-1,<em>m</em>+1,<em>n</em>-1))/(<em>m</em>+<em>n</em>).</p>\n",
       "<p>Along with the boundary values</p>\n",
       "<p>P(R,<em>m</em>,0) = 1 (all races have been assigned at least one robot)</p>\n",
       "<p>and for <em>n</em>&gt;0,</p>\n",
       "<p>P(0,<em>m</em>,<em>n</em>) = 0 (we’ve run out of robots and we still have an unassigned\n",
       "race),</p>\n",
       "<p>we can compute values of P efficiently by induction. We want to find\n",
       "the smallest <em>N</em> such that</p>\n",
       "<p>1 - P(3<em>N</em>-1,0,<em>N</em>) &gt; 1/3,</p>\n",
       "<p>which occurs at <em>N</em>=<strong>8</strong> and <em>p</em>=<strong>0.334578…</strong>.</p>\n",
       "<p><strong>Congrats to this month’s solvers who computed the correct size and\n",
       "probability of winning the swimming trials!</strong></p>\n",
       "<h4 class=\"omit-as-of\" id=\"correct-submissions-from\"></h4>\n",
       "<p class=\"correct-submissions\" data-directory=\"2021-10-01-robot-swimming-trials\"></p>\n",
       "</div>"
      ],
      "text/plain": [
       "<IPython.core.display.HTML object>"
      ]
     },
     "execution_count": 5,
     "metadata": {},
     "output_type": "execute_result"
    }
   ],
   "source": [
    "url='https://www.janestreet.com/puzzles/robot-swimming-trials-solution/'\n",
    "res = requests.get(url)\n",
    "soup = BeautifulSoup(res.content, 'html.parser')\n",
    "HTML(str(soup.find('div', {'class' :'inner-wrapper'})))"
   ]
  },
  {
   "cell_type": "code",
   "execution_count": 6,
   "metadata": {},
   "outputs": [],
   "source": [
    "# Check with some simulations\n",
    "@nb.njit()\n",
    "def sim(N):\n",
    "    picks = [randrange(1, N+1) for p in range(N*3-1)]\n",
    "    for n in range(1,N+1):\n",
    "        if n not in picks:\n",
    "            return 1\n",
    "    return 0\n",
    "\n",
    "@nb.njit()\n",
    "def run_it(N,sims):\n",
    "    tot = 0\n",
    "    for x in range(sims):\n",
    "        tot += sim(N)\n",
    "    return tot/sims\n"
   ]
  },
  {
   "cell_type": "code",
   "execution_count": 7,
   "metadata": {},
   "outputs": [
    {
     "name": "stdout",
     "output_type": "stream",
     "text": [
      "Rounds\tSim\t\tCalc\n",
      "  2\t0.062528\t0.062500\n",
      "  3\t0.116596\t0.116598\n",
      "  4\t0.166131\t0.166012\n",
      "  5\t0.212186\t0.212093\n",
      "  6\t0.255354\t0.255368\n",
      "  7\t0.296034\t0.296128\n",
      "  8\t0.334598\t0.334578\n",
      "  9\t0.370773\t0.370878\n",
      "took 52.159483194351196\n"
     ]
    }
   ],
   "source": [
    "start= time.time()\n",
    "print(\"Rounds\\tSim\\t\\tCalc\")\n",
    "for N in range(2,10):\n",
    "    sims = 10000000\n",
    "    x = run_it(N,sims)\n",
    "    print(\"{:>3}\\t{:.6f}\\t{:.6f}\".format(N,x,calc(N)))\n",
    "print(\"took\",time.time()-start)"
   ]
  },
  {
   "cell_type": "code",
   "execution_count": null,
   "metadata": {},
   "outputs": [],
   "source": []
  }
 ],
 "metadata": {
  "colab": {
   "include_colab_link": true,
   "name": "JaneSt-Feb18.ipynb",
   "provenance": []
  },
  "kernelspec": {
   "display_name": "Python 3 (ipykernel)",
   "language": "python",
   "name": "python3"
  },
  "language_info": {
   "codemirror_mode": {
    "name": "ipython",
    "version": 3
   },
   "file_extension": ".py",
   "mimetype": "text/x-python",
   "name": "python",
   "nbconvert_exporter": "python",
   "pygments_lexer": "ipython3",
   "version": "3.7.12"
  }
 },
 "nbformat": 4,
 "nbformat_minor": 4
}
